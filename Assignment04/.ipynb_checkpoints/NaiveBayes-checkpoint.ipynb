{
 "cells": [
  {
   "cell_type": "code",
   "execution_count": 1,
   "metadata": {},
   "outputs": [],
   "source": [
    "import numpy as np \n",
    "import csv\n",
    "import pandas as pd\n",
    "import matplotlib.pyplot as plt\n",
    "from math import pi, exp, sqrt\n",
    "%matplotlib inline"
   ]
  },
  {
   "cell_type": "markdown",
   "metadata": {},
   "source": [
    "------------------------------------"
   ]
  },
  {
   "cell_type": "markdown",
   "metadata": {},
   "source": [
    "# Data Preprocessing"
   ]
  },
  {
   "cell_type": "code",
   "execution_count": 2,
   "metadata": {},
   "outputs": [],
   "source": [
    "input_path = \"tsv/Example.tsv\"\n",
    "input_ds = pd.read_csv(input_path, header = None, sep=\"\\t\")"
   ]
  },
  {
   "cell_type": "code",
   "execution_count": 3,
   "metadata": {},
   "outputs": [
    {
     "data": {
      "text/html": [
       "<div>\n",
       "<style scoped>\n",
       "    .dataframe tbody tr th:only-of-type {\n",
       "        vertical-align: middle;\n",
       "    }\n",
       "\n",
       "    .dataframe tbody tr th {\n",
       "        vertical-align: top;\n",
       "    }\n",
       "\n",
       "    .dataframe thead th {\n",
       "        text-align: right;\n",
       "    }\n",
       "</style>\n",
       "<table border=\"1\" class=\"dataframe\">\n",
       "  <thead>\n",
       "    <tr style=\"text-align: right;\">\n",
       "      <th></th>\n",
       "      <th>0</th>\n",
       "      <th>1</th>\n",
       "      <th>2</th>\n",
       "      <th>3</th>\n",
       "    </tr>\n",
       "  </thead>\n",
       "  <tbody>\n",
       "    <tr>\n",
       "      <th>0</th>\n",
       "      <td>A</td>\n",
       "      <td>-1.525735</td>\n",
       "      <td>1.674080</td>\n",
       "      <td>NaN</td>\n",
       "    </tr>\n",
       "    <tr>\n",
       "      <th>1</th>\n",
       "      <td>A</td>\n",
       "      <td>6.069158</td>\n",
       "      <td>5.152899</td>\n",
       "      <td>NaN</td>\n",
       "    </tr>\n",
       "    <tr>\n",
       "      <th>2</th>\n",
       "      <td>A</td>\n",
       "      <td>-4.146633</td>\n",
       "      <td>1.081567</td>\n",
       "      <td>NaN</td>\n",
       "    </tr>\n",
       "    <tr>\n",
       "      <th>3</th>\n",
       "      <td>A</td>\n",
       "      <td>-4.994697</td>\n",
       "      <td>2.974933</td>\n",
       "      <td>NaN</td>\n",
       "    </tr>\n",
       "    <tr>\n",
       "      <th>4</th>\n",
       "      <td>A</td>\n",
       "      <td>-0.837513</td>\n",
       "      <td>-1.655131</td>\n",
       "      <td>NaN</td>\n",
       "    </tr>\n",
       "  </tbody>\n",
       "</table>\n",
       "</div>"
      ],
      "text/plain": [
       "   0         1         2   3\n",
       "0  A -1.525735  1.674080 NaN\n",
       "1  A  6.069158  5.152899 NaN\n",
       "2  A -4.146633  1.081567 NaN\n",
       "3  A -4.994697  2.974933 NaN\n",
       "4  A -0.837513 -1.655131 NaN"
      ]
     },
     "execution_count": 3,
     "metadata": {},
     "output_type": "execute_result"
    }
   ],
   "source": [
    "input_ds.head()"
   ]
  },
  {
   "cell_type": "code",
   "execution_count": 4,
   "metadata": {
    "scrolled": true
   },
   "outputs": [],
   "source": [
    "n_cols_0 = len(input_ds.columns)\n",
    "input_ds = input_ds.drop(n_cols_0-1, axis=1) #delete the last column because its NaN for all rows"
   ]
  },
  {
   "cell_type": "code",
   "execution_count": 5,
   "metadata": {
    "scrolled": true
   },
   "outputs": [
    {
     "data": {
      "text/html": [
       "<div>\n",
       "<style scoped>\n",
       "    .dataframe tbody tr th:only-of-type {\n",
       "        vertical-align: middle;\n",
       "    }\n",
       "\n",
       "    .dataframe tbody tr th {\n",
       "        vertical-align: top;\n",
       "    }\n",
       "\n",
       "    .dataframe thead th {\n",
       "        text-align: right;\n",
       "    }\n",
       "</style>\n",
       "<table border=\"1\" class=\"dataframe\">\n",
       "  <thead>\n",
       "    <tr style=\"text-align: right;\">\n",
       "      <th></th>\n",
       "      <th>0</th>\n",
       "      <th>1</th>\n",
       "      <th>2</th>\n",
       "    </tr>\n",
       "  </thead>\n",
       "  <tbody>\n",
       "    <tr>\n",
       "      <th>0</th>\n",
       "      <td>A</td>\n",
       "      <td>-1.525735</td>\n",
       "      <td>1.674080</td>\n",
       "    </tr>\n",
       "    <tr>\n",
       "      <th>1</th>\n",
       "      <td>A</td>\n",
       "      <td>6.069158</td>\n",
       "      <td>5.152899</td>\n",
       "    </tr>\n",
       "    <tr>\n",
       "      <th>2</th>\n",
       "      <td>A</td>\n",
       "      <td>-4.146633</td>\n",
       "      <td>1.081567</td>\n",
       "    </tr>\n",
       "    <tr>\n",
       "      <th>3</th>\n",
       "      <td>A</td>\n",
       "      <td>-4.994697</td>\n",
       "      <td>2.974933</td>\n",
       "    </tr>\n",
       "    <tr>\n",
       "      <th>4</th>\n",
       "      <td>A</td>\n",
       "      <td>-0.837513</td>\n",
       "      <td>-1.655131</td>\n",
       "    </tr>\n",
       "  </tbody>\n",
       "</table>\n",
       "</div>"
      ],
      "text/plain": [
       "   0         1         2\n",
       "0  A -1.525735  1.674080\n",
       "1  A  6.069158  5.152899\n",
       "2  A -4.146633  1.081567\n",
       "3  A -4.994697  2.974933\n",
       "4  A -0.837513 -1.655131"
      ]
     },
     "execution_count": 5,
     "metadata": {},
     "output_type": "execute_result"
    }
   ],
   "source": [
    "input_ds.head()"
   ]
  },
  {
   "cell_type": "code",
   "execution_count": 6,
   "metadata": {},
   "outputs": [
    {
     "name": "stdout",
     "output_type": "stream",
     "text": [
      "Number of columns: 3\n"
     ]
    }
   ],
   "source": [
    "n_cols = len(input_ds.columns)\n",
    "print(\"Number of columns:\", n_cols)"
   ]
  },
  {
   "cell_type": "code",
   "execution_count": 7,
   "metadata": {},
   "outputs": [
    {
     "name": "stdout",
     "output_type": "stream",
     "text": [
      "['labels', 'x_0', 'x_1']\n"
     ]
    }
   ],
   "source": [
    "#initiate empty list for column name\n",
    "col_name = []\n",
    "\n",
    "#naming scheme starts with x1 because we will concatenate\n",
    "#x0 = 1 vector in the list later \n",
    "for i in range(n_cols):\n",
    "    #last column is the target value\n",
    "    if (i == 0):\n",
    "        col_name.append('labels')\n",
    "    else:\n",
    "        col_name.append('x_{}'.format(i-1))\n",
    "        \n",
    "print(col_name)"
   ]
  },
  {
   "cell_type": "code",
   "execution_count": 8,
   "metadata": {
    "scrolled": true
   },
   "outputs": [
    {
     "name": "stdout",
     "output_type": "stream",
     "text": [
      "  labels       x_0       x_1\n",
      "0      A -1.525735  1.674080\n",
      "1      A  6.069158  5.152899\n",
      "2      A -4.146633  1.081567\n",
      "3      A -4.994697  2.974933\n",
      "4      A -0.837513 -1.655131\n"
     ]
    }
   ],
   "source": [
    "#assigning column names to data set\n",
    "input_ds.columns = col_name\n",
    "print (input_ds.head())"
   ]
  },
  {
   "cell_type": "code",
   "execution_count": 9,
   "metadata": {
    "scrolled": true
   },
   "outputs": [
    {
     "name": "stdout",
     "output_type": "stream",
     "text": [
      "['A' 'B']\n",
      "[200 200]\n"
     ]
    }
   ],
   "source": [
    "#calculate labels\n",
    "vals, count = np.unique(input_ds['labels'], return_counts= True)\n",
    "print(vals)\n",
    "print(count)"
   ]
  },
  {
   "cell_type": "code",
   "execution_count": 10,
   "metadata": {},
   "outputs": [
    {
     "name": "stdout",
     "output_type": "stream",
     "text": [
      "['A' 'A' 'A' 'A' 'A']\n"
     ]
    }
   ],
   "source": [
    "#set up class\n",
    "c = np.squeeze(np.asarray(input_ds['labels']))\n",
    "#print first 5 rows\n",
    "print(c[:5])"
   ]
  },
  {
   "cell_type": "code",
   "execution_count": 11,
   "metadata": {
    "scrolled": true
   },
   "outputs": [
    {
     "name": "stdout",
     "output_type": "stream",
     "text": [
      "[[-1.525735  1.67408 ]\n",
      " [ 6.069158  5.152899]\n",
      " [-4.146633  1.081567]\n",
      " [-4.994697  2.974933]\n",
      " [-0.837513 -1.655131]]\n",
      "Shape of x: (400, 2)\n"
     ]
    }
   ],
   "source": [
    "#set up attributes\n",
    "x = input_ds.iloc[:,1:n_cols]\n",
    "x = np.squeeze(np.asarray(x))\n",
    "#print first 5 rows\n",
    "print(x[:5,:])\n",
    "print(\"Shape of x:\",x.shape)"
   ]
  },
  {
   "cell_type": "markdown",
   "metadata": {},
   "source": [
    "-----------------------------------"
   ]
  },
  {
   "cell_type": "markdown",
   "metadata": {},
   "source": [
    "# Helper Function"
   ]
  },
  {
   "cell_type": "code",
   "execution_count": 12,
   "metadata": {},
   "outputs": [],
   "source": [
    "def retrieve_class_index(class_col, vals):\n",
    "    '''\n",
    "    '''\n",
    "    index_list = []\n",
    "    for val in vals:\n",
    "        index_array = np.where(class_col==val)\n",
    "        index_list.append(index_array)\n",
    "    return index_list\n",
    "\n",
    "def mean(x, index_list, counts):\n",
    "    '''\n",
    "    '''\n",
    "    class_means = []\n",
    "    for i in range(len(index_list)):\n",
    "        x_sum = np.sum([x[idx] for idx in index_list[i]], axis=1)\n",
    "        class_mean = x_sum/counts[i]\n",
    "        class_means.append(class_mean)\n",
    "    return np.squeeze(np.asarray(class_means))\n",
    "\n",
    "def variance(x, index_list, mean_arr, counts):\n",
    "    '''\n",
    "    '''\n",
    "    variance_list = []\n",
    "    for i in range(len(index_list)):\n",
    "        x_class = np.array([x[idx] for idx in index_list[i]])\n",
    "        sum_func = np.sum((x_class-mean_arr[i])**2, axis = 1)\n",
    "        variance_class = sum_func/counts[i]\n",
    "        variance_list.append(variance_class)\n",
    "    return np.squeeze(np.asarray(variance_list))\n",
    "\n",
    "def likelihood(x, mean, variance):\n",
    "    denominator = sqrt(2*pi*variance)\n",
    "    exp_term = exp(-(((x-mean)**2)/(2*variance)))\n",
    "    return exp_term/denominator\n",
    "\n",
    "def prob_class(class_col, counts):\n",
    "    '''\n",
    "    Calculate the probability of each class respectively\n",
    "    \n",
    "    @param class_col: The column of class data being stored\n",
    "    \n",
    "    return: list of class probability  \n",
    "    '''\n",
    "    class_probs = [] # list to store class means\n",
    "    for count in counts:\n",
    "        class_prob = count/len(class_col)\n",
    "        class_probs.append(class_prob)\n",
    "    return class_probs\n",
    "\n",
    "def plot_2D(xy_label_A, xy_label_B, title = None, w = None): \n",
    "    '''\n",
    "    This function plots a 2D graph for illustrating the data points\n",
    "    \n",
    "    @param xy_label_A: x,y data points associating with label A\n",
    "    @param xy_label_B: x,y data points associating with label B\n",
    "    @param title: title of the plot\n",
    "    @param w: Weights vector associating with the learning rate variant\n",
    "    @param decision_boundary: Draw a decision boundary from naive bayes algoritm\n",
    "    '''\n",
    "    plt.plot(xy_label_A['x_0'], xy_label_A['x_1'], 'r^', label='A')\n",
    "    plt.plot(xy_label_B['x_0'], xy_label_B['x_1'], 'bs', label='B')\n",
    "    if (title!=None):\n",
    "        plt.title(title)\n",
    "    plt.xlabel('x0')\n",
    "    plt.ylabel('x1')\n",
    "    plt.legend(loc='upper right')\n",
    "    plt.show()"
   ]
  },
  {
   "cell_type": "code",
   "execution_count": 13,
   "metadata": {},
   "outputs": [],
   "source": [
    "vals, counts = np.unique(c, return_counts = True) #retrieve the class instances \n",
    "index_list = retrieve_class_index(c, vals)\n",
    "mean_arr = mean(x, index_list, counts)"
   ]
  },
  {
   "cell_type": "code",
   "execution_count": 14,
   "metadata": {},
   "outputs": [
    {
     "name": "stdout",
     "output_type": "stream",
     "text": [
      "[0.95684796 1.18431146]\n"
     ]
    }
   ],
   "source": [
    "print(mean_arr[0])"
   ]
  },
  {
   "cell_type": "code",
   "execution_count": 16,
   "metadata": {},
   "outputs": [],
   "source": [
    "variance_tst = variance(x, index_list, mean_arr, counts)"
   ]
  },
  {
   "cell_type": "markdown",
   "metadata": {},
   "source": [
    "----------------------------------------"
   ]
  },
  {
   "cell_type": "markdown",
   "metadata": {},
   "source": [
    "# Main Algorithm"
   ]
  },
  {
   "cell_type": "markdown",
   "metadata": {},
   "source": [
    "------------------------------------"
   ]
  },
  {
   "cell_type": "code",
   "execution_count": null,
   "metadata": {},
   "outputs": [],
   "source": []
  },
  {
   "cell_type": "markdown",
   "metadata": {},
   "source": [
    "# Write .tsv"
   ]
  },
  {
   "cell_type": "code",
   "execution_count": null,
   "metadata": {},
   "outputs": [],
   "source": [
    "# output_path = 'tsv/Example_Errors.tsv'\n",
    "# with open(output_path, 'wt') as write_tsv:\n",
    "#     tsv_writer = csv.writer(write_tsv, delimiter='\\t')\n",
    "#     for i in range(len(error_variant_list)):\n",
    "#         tsv_writer.writerow(error_variant_list[i])"
   ]
  },
  {
   "cell_type": "markdown",
   "metadata": {},
   "source": [
    "--------------------------------"
   ]
  },
  {
   "cell_type": "markdown",
   "metadata": {},
   "source": [
    "# Data Visualization"
   ]
  },
  {
   "cell_type": "markdown",
   "metadata": {},
   "source": [
    "## Initial State"
   ]
  },
  {
   "cell_type": "code",
   "execution_count": 18,
   "metadata": {},
   "outputs": [],
   "source": [
    "#xy points for label A\n",
    "xy_label_A = input_ds.where(input_ds['labels']=='A').dropna().drop('labels', axis=1)\n",
    "#xy points for label B\n",
    "xy_label_B = input_ds.where(input_ds['labels']=='B').dropna().drop('labels', axis=1)"
   ]
  },
  {
   "cell_type": "code",
   "execution_count": 19,
   "metadata": {},
   "outputs": [
    {
     "data": {
      "image/png": "[encoded data removed]",
      "text/plain": [
       "<Figure size 432x288 with 1 Axes>"
      ]
     },
     "metadata": {},
     "output_type": "display_data"
    }
   ],
   "source": [
    "title = 'Initial State'\n",
    "plot_2D(xy_label_A, xy_label_B, title)"
   ]
  }
 ],
 "metadata": {
  "kernelspec": {
   "display_name": "Python 3",
   "language": "python",
   "name": "python3"
  },
  "language_info": {
   "codemirror_mode": {
    "name": "ipython",
    "version": 3
   },
   "file_extension": ".py",
   "mimetype": "text/x-python",
   "name": "python",
   "nbconvert_exporter": "python",
   "pygments_lexer": "ipython3",
   "version": "3.6.6"
  }
 },
 "nbformat": 4,
 "nbformat_minor": 2
}
