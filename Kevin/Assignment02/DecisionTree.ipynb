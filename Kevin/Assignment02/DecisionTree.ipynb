{
 "cells": [
  {
   "cell_type": "markdown",
   "metadata": {},
   "source": [
    "# Imports"
   ]
  },
  {
   "cell_type": "code",
   "execution_count": 1,
   "metadata": {},
   "outputs": [],
   "source": [
    "import numpy as np \n",
    "import matplotlib.pyplot as plt \n",
    "%matplotlib inline\n",
    "import pandas as pd \n",
    "import time\n",
    "from math import log"
   ]
  },
  {
   "cell_type": "markdown",
   "metadata": {},
   "source": [
    "------------------------------"
   ]
  },
  {
   "cell_type": "markdown",
   "metadata": {},
   "source": [
    "# Helper Function"
   ]
  },
  {
   "cell_type": "code",
   "execution_count": 2,
   "metadata": {},
   "outputs": [],
   "source": [
    "def set_array(inps):\n",
    "    '''\n",
    "    @param inps: sliced data frame\n",
    "    Converts dataframe into numpy array for easy work out\n",
    "    '''\n",
    "    inps = np.asarray(inps)\n",
    "    #squeeze to remove indexing column from pandas\n",
    "    return np.squeeze(inps)\n",
    "\n",
    "def entropy(target_col, n_class):\n",
    "    elements,counts = np.unique(target_col,return_counts = True)\n",
    "    ent = 0\n",
    "    for i in range(len(elements)):\n",
    "        ent += (-counts[i]/np.sum(counts))*log(counts[i]/np.sum(counts), n_class)\n",
    "    return ent\n",
    "    "
   ]
  },
  {
   "cell_type": "markdown",
   "metadata": {},
   "source": [
    "# Data Processing"
   ]
  },
  {
   "cell_type": "code",
   "execution_count": 3,
   "metadata": {
    "scrolled": true
   },
   "outputs": [
    {
     "name": "stdout",
     "output_type": "stream",
     "text": [
      "Number of columns: 7\n"
     ]
    }
   ],
   "source": [
    "input_path = 'car.csv'\n",
    "input_ds = pd.read_csv(input_path, header = None)\n",
    "n_cols = len(input_ds.columns)\n",
    "print(\"Number of columns:\", n_cols)"
   ]
  },
  {
   "cell_type": "markdown",
   "metadata": {},
   "source": [
    "## Naming columns "
   ]
  },
  {
   "cell_type": "code",
   "execution_count": 4,
   "metadata": {},
   "outputs": [
    {
     "name": "stdout",
     "output_type": "stream",
     "text": [
      "['att0', 'att1', 'att2', 'att3', 'att4', 'att5', 'class']\n"
     ]
    }
   ],
   "source": [
    "#initiate empty list for column name\n",
    "col_name = []\n",
    "\n",
    "for i in range(n_cols):\n",
    "    #last column is the target value\n",
    "    if (i == n_cols-1):\n",
    "        col_name.append('class')\n",
    "    else:\n",
    "        col_name.append('att{}'.format(i))\n",
    "        \n",
    "print(col_name)"
   ]
  },
  {
   "cell_type": "code",
   "execution_count": 5,
   "metadata": {
    "scrolled": false
   },
   "outputs": [
    {
     "name": "stdout",
     "output_type": "stream",
     "text": [
      "    att0   att1 att2 att3   att4  att5  class\n",
      "0  vhigh  vhigh    2    2  small   low  unacc\n",
      "1  vhigh  vhigh    2    2  small   med  unacc\n",
      "2  vhigh  vhigh    2    2  small  high  unacc\n",
      "3  vhigh  vhigh    2    2    med   low  unacc\n",
      "4  vhigh  vhigh    2    2    med   med  unacc\n"
     ]
    }
   ],
   "source": [
    "#assigning column names to data set\n",
    "input_ds.columns = col_name\n",
    "print (input_ds.head())"
   ]
  },
  {
   "cell_type": "code",
   "execution_count": 6,
   "metadata": {},
   "outputs": [],
   "source": [
    "arr = input_ds.iloc[:,0:n_cols-1]\n",
    "value = input_ds.iloc[:,n_cols-1]\n",
    "\n",
    "att = set_array(att)\n",
    "value = set_array(value)"
   ]
  },
  {
   "cell_type": "code",
   "execution_count": 7,
   "metadata": {},
   "outputs": [
    {
     "name": "stdout",
     "output_type": "stream",
     "text": [
      "Attributes in att0 is: {'vhigh', 'low', 'high', 'med'}\n",
      "Attributes in att1 is: {'vhigh', 'low', 'high', 'med'}\n",
      "Attributes in att2 is: {'4', '5more', '3', '2'}\n",
      "Attributes in att3 is: {'more', '4', '2'}\n",
      "Attributes in att4 is: {'small', 'med', 'big'}\n",
      "Attributes in att5 is: {'med', 'low', 'high'}\n",
      "Attributes in value is: {'vgood', 'acc', 'good', 'unacc'}\n",
      "Number of class is:  4\n"
     ]
    }
   ],
   "source": [
    "for i in range(att.shape[1]):\n",
    "    print(\"Attributes in att{} is: {}\".format(i, set(att[:,i])))\n",
    "\n",
    "n_class = len(set(value))\n",
    "print(\"Attributes in value is:\", set(value))\n",
    "print(\"Number of class is: \", n_class)"
   ]
  },
  {
   "cell_type": "code",
   "execution_count": 8,
   "metadata": {
    "scrolled": true
   },
   "outputs": [
    {
     "data": {
      "text/plain": [
       "0.6028704850060875"
      ]
     },
     "execution_count": 8,
     "metadata": {},
     "output_type": "execute_result"
    }
   ],
   "source": [
    "entropy(value, n_class)"
   ]
  },
  {
   "cell_type": "code",
   "execution_count": 9,
   "metadata": {},
   "outputs": [],
   "source": [
    "vals,counts= np.unique(att[:,5],return_counts=True)"
   ]
  },
  {
   "cell_type": "code",
   "execution_count": 22,
   "metadata": {},
   "outputs": [
    {
     "name": "stdout",
     "output_type": "stream",
     "text": [
      "[['low' 'med']\n",
      " ['high' 'low']\n",
      " ['med' 'high']\n",
      " ...\n",
      " ['unacc' 'good']\n",
      " ['vgood' 'unacc']\n",
      " ['good' 'vgood']]\n"
     ]
    }
   ],
   "source": [
    "test_02 = np.stack((att[:,5], value)).reshape(-1,2)\n",
    "print(test_02)"
   ]
  },
  {
   "cell_type": "code",
   "execution_count": 24,
   "metadata": {
    "scrolled": false
   },
   "outputs": [
    {
     "name": "stdout",
     "output_type": "stream",
     "text": [
      "['low' 'low' 'low' 'low' 'low' 'low' 'low' 'low' 'low' 'low' 'low' 'low'\n",
      " 'low' 'low' 'low' 'low' 'low' 'low' 'low' 'low' 'low' 'low' 'low' 'low'\n",
      " 'low' 'low' 'low' 'low' 'low' 'low' 'low' 'low' 'low' 'low' 'low' 'low'\n",
      " 'low' 'low' 'low' 'low' 'low' 'low' 'low' 'low' 'low' 'low' 'low' 'low'\n",
      " 'low' 'low' 'low' 'low' 'low' 'low' 'low' 'low' 'low' 'low' 'low' 'low'\n",
      " 'low' 'low' 'low' 'low' 'low' 'low' 'low' 'low' 'low' 'low' 'low' 'low'\n",
      " 'low' 'low' 'low' 'low' 'low' 'low' 'low' 'low' 'low' 'low' 'low' 'low'\n",
      " 'low' 'low' 'low' 'low' 'low' 'low' 'low' 'low' 'low' 'low' 'low' 'low'\n",
      " 'low' 'low' 'low' 'low' 'low' 'low' 'low' 'low' 'low' 'low' 'low' 'low'\n",
      " 'low' 'low' 'low' 'low' 'low' 'low' 'low' 'low' 'low' 'low' 'low' 'low'\n",
      " 'low' 'low' 'low' 'low' 'low' 'low' 'low' 'low' 'low' 'low' 'low' 'low'\n",
      " 'low' 'low' 'low' 'low' 'low' 'low' 'low' 'low' 'low' 'low' 'low' 'low'\n",
      " 'low' 'low' 'low' 'low' 'low' 'low' 'low' 'low' 'low' 'low' 'low' 'low'\n",
      " 'low' 'low' 'low' 'low' 'low' 'low' 'low' 'low' 'low' 'low' 'low' 'low'\n",
      " 'low' 'low' 'low' 'low' 'low' 'low' 'low' 'low' 'low' 'low' 'low' 'low'\n",
      " 'low' 'low' 'low' 'low' 'low' 'low' 'low' 'low' 'low' 'low' 'low' 'low'\n",
      " 'low' 'low' 'low' 'low' 'low' 'low' 'low' 'low' 'low' 'low' 'low' 'low'\n",
      " 'low' 'low' 'low' 'low' 'low' 'low' 'low' 'low' 'low' 'low' 'low' 'low'\n",
      " 'low' 'low' 'low' 'low' 'low' 'low' 'low' 'low' 'low' 'low' 'low' 'low'\n",
      " 'low' 'low' 'low' 'low' 'low' 'low' 'low' 'low' 'low' 'low' 'low' 'low'\n",
      " 'low' 'low' 'low' 'low' 'low' 'low' 'low' 'low' 'low' 'low' 'low' 'low'\n",
      " 'low' 'low' 'low' 'low' 'low' 'low' 'low' 'low' 'low' 'low' 'low' 'low'\n",
      " 'low' 'low' 'low' 'low' 'low' 'low' 'low' 'low' 'low' 'low' 'low' 'low'\n",
      " 'low' 'low' 'low' 'low' 'low' 'low' 'low' 'low' 'low' 'low' 'low' 'low']\n"
     ]
    }
   ],
   "source": [
    "tmp_02 = np.where(test_02[:,0] == vals[0], test_02[:,1], 0)\n",
    "tmp_02 = tmp_02[tmp_02!=0]\n",
    "print(tmp_02)"
   ]
  },
  {
   "cell_type": "code",
   "execution_count": 10,
   "metadata": {},
   "outputs": [],
   "source": [
    "w_entropy = 0\n",
    "for i in vals:\n",
    "    split_att = np.where(att[:,5]== i, att[:,5], 0)\n",
    "    split_att = split_att[split_att!=0]\n",
    "    w_entropy += entropy(split_att,n_class)"
   ]
  },
  {
   "cell_type": "code",
   "execution_count": 11,
   "metadata": {
    "scrolled": true
   },
   "outputs": [
    {
     "name": "stdout",
     "output_type": "stream",
     "text": [
      "['high' 'high' 'high' ... 'good' 'vgood' 'vgood']\n"
     ]
    }
   ],
   "source": [
    "test = np.stack((att[:,5], value))\n",
    "tmp = np.where(test[0]== vals[0], test, 0)\n",
    "tmp = tmp[tmp!=0]\n",
    "print(tmp)"
   ]
  },
  {
   "cell_type": "code",
   "execution_count": 12,
   "metadata": {},
   "outputs": [],
   "source": [
    "tmp = np.where(att[:,5]== vals[0], att[:,5], 0)\n",
    "tmp = tmp[tmp!=0]"
   ]
  },
  {
   "cell_type": "markdown",
   "metadata": {},
   "source": [
    "-----------------------------------------------"
   ]
  },
  {
   "cell_type": "code",
   "execution_count": 18,
   "metadata": {},
   "outputs": [
    {
     "data": {
      "text/plain": [
       "2       unacc\n",
       "5       unacc\n",
       "8       unacc\n",
       "11      unacc\n",
       "14      unacc\n",
       "17      unacc\n",
       "20      unacc\n",
       "23      unacc\n",
       "26      unacc\n",
       "29      unacc\n",
       "32      unacc\n",
       "35      unacc\n",
       "38      unacc\n",
       "41      unacc\n",
       "44      unacc\n",
       "47      unacc\n",
       "50      unacc\n",
       "53      unacc\n",
       "56      unacc\n",
       "59      unacc\n",
       "62      unacc\n",
       "65      unacc\n",
       "68      unacc\n",
       "71      unacc\n",
       "74      unacc\n",
       "77      unacc\n",
       "80      unacc\n",
       "83      unacc\n",
       "86      unacc\n",
       "89      unacc\n",
       "        ...  \n",
       "1640    unacc\n",
       "1643     good\n",
       "1646    vgood\n",
       "1649    unacc\n",
       "1652    unacc\n",
       "1655    unacc\n",
       "1658     good\n",
       "1661     good\n",
       "1664    vgood\n",
       "1667     good\n",
       "1670    vgood\n",
       "1673    vgood\n",
       "1676    unacc\n",
       "1679    unacc\n",
       "1682    unacc\n",
       "1685     good\n",
       "1688    vgood\n",
       "1691    vgood\n",
       "1694     good\n",
       "1697    vgood\n",
       "1700    vgood\n",
       "1703    unacc\n",
       "1706    unacc\n",
       "1709    unacc\n",
       "1712     good\n",
       "1715    vgood\n",
       "1718    vgood\n",
       "1721     good\n",
       "1724    vgood\n",
       "1727    vgood\n",
       "Name: class, Length: 576, dtype: object"
      ]
     },
     "execution_count": 18,
     "metadata": {},
     "output_type": "execute_result"
    }
   ],
   "source": [
    "input_ds.where(input_ds['att5']==vals[0]).dropna()['class']"
   ]
  }
 ],
 "metadata": {
  "kernelspec": {
   "display_name": "Python 3",
   "language": "python",
   "name": "python3"
  },
  "language_info": {
   "codemirror_mode": {
    "name": "ipython",
    "version": 3
   },
   "file_extension": ".py",
   "mimetype": "text/x-python",
   "name": "python",
   "nbconvert_exporter": "python",
   "pygments_lexer": "ipython3",
   "version": "3.6.6"
  }
 },
 "nbformat": 4,
 "nbformat_minor": 2
}
