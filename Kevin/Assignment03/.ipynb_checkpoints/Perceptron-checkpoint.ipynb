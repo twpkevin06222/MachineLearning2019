{
 "cells": [
  {
   "cell_type": "code",
   "execution_count": 1,
   "metadata": {},
   "outputs": [],
   "source": [
    "import numpy as np \n",
    "import csv\n",
    "import pandas as pd\n",
    "import matplotlib.pyplot as plt\n",
    "%matplotlib inline"
   ]
  },
  {
   "cell_type": "markdown",
   "metadata": {},
   "source": [
    "------------------------------------"
   ]
  },
  {
   "cell_type": "markdown",
   "metadata": {},
   "source": [
    "# Data Preprocessing"
   ]
  },
  {
   "cell_type": "code",
   "execution_count": 2,
   "metadata": {},
   "outputs": [],
   "source": [
    "input_path = \"tsv/Example.tsv\"\n",
    "input_ds = pd.read_csv(input_path, header = None, sep=\"\\t\")"
   ]
  },
  {
   "cell_type": "code",
   "execution_count": 3,
   "metadata": {},
   "outputs": [
    {
     "data": {
      "text/html": [
       "<div>\n",
       "<style scoped>\n",
       "    .dataframe tbody tr th:only-of-type {\n",
       "        vertical-align: middle;\n",
       "    }\n",
       "\n",
       "    .dataframe tbody tr th {\n",
       "        vertical-align: top;\n",
       "    }\n",
       "\n",
       "    .dataframe thead th {\n",
       "        text-align: right;\n",
       "    }\n",
       "</style>\n",
       "<table border=\"1\" class=\"dataframe\">\n",
       "  <thead>\n",
       "    <tr style=\"text-align: right;\">\n",
       "      <th></th>\n",
       "      <th>0</th>\n",
       "      <th>1</th>\n",
       "      <th>2</th>\n",
       "      <th>3</th>\n",
       "    </tr>\n",
       "  </thead>\n",
       "  <tbody>\n",
       "    <tr>\n",
       "      <th>0</th>\n",
       "      <td>A</td>\n",
       "      <td>-1.525735</td>\n",
       "      <td>1.674080</td>\n",
       "      <td>NaN</td>\n",
       "    </tr>\n",
       "    <tr>\n",
       "      <th>1</th>\n",
       "      <td>A</td>\n",
       "      <td>6.069158</td>\n",
       "      <td>5.152899</td>\n",
       "      <td>NaN</td>\n",
       "    </tr>\n",
       "    <tr>\n",
       "      <th>2</th>\n",
       "      <td>A</td>\n",
       "      <td>-4.146633</td>\n",
       "      <td>1.081567</td>\n",
       "      <td>NaN</td>\n",
       "    </tr>\n",
       "    <tr>\n",
       "      <th>3</th>\n",
       "      <td>A</td>\n",
       "      <td>-4.994697</td>\n",
       "      <td>2.974933</td>\n",
       "      <td>NaN</td>\n",
       "    </tr>\n",
       "    <tr>\n",
       "      <th>4</th>\n",
       "      <td>A</td>\n",
       "      <td>-0.837513</td>\n",
       "      <td>-1.655131</td>\n",
       "      <td>NaN</td>\n",
       "    </tr>\n",
       "  </tbody>\n",
       "</table>\n",
       "</div>"
      ],
      "text/plain": [
       "   0         1         2   3\n",
       "0  A -1.525735  1.674080 NaN\n",
       "1  A  6.069158  5.152899 NaN\n",
       "2  A -4.146633  1.081567 NaN\n",
       "3  A -4.994697  2.974933 NaN\n",
       "4  A -0.837513 -1.655131 NaN"
      ]
     },
     "execution_count": 3,
     "metadata": {},
     "output_type": "execute_result"
    }
   ],
   "source": [
    "input_ds.head()"
   ]
  },
  {
   "cell_type": "code",
   "execution_count": 4,
   "metadata": {
    "scrolled": true
   },
   "outputs": [],
   "source": [
    "n_cols_0 = len(input_ds.columns)\n",
    "input_ds = input_ds.drop(n_cols_0-1, axis=1) #delete the last column because its NaN for all rows\n",
    "#insert bias \n",
    "input_ds.insert(1,None,np.ones(input_ds.shape[0]))"
   ]
  },
  {
   "cell_type": "code",
   "execution_count": 5,
   "metadata": {
    "scrolled": true
   },
   "outputs": [
    {
     "data": {
      "text/html": [
       "<div>\n",
       "<style scoped>\n",
       "    .dataframe tbody tr th:only-of-type {\n",
       "        vertical-align: middle;\n",
       "    }\n",
       "\n",
       "    .dataframe tbody tr th {\n",
       "        vertical-align: top;\n",
       "    }\n",
       "\n",
       "    .dataframe thead th {\n",
       "        text-align: right;\n",
       "    }\n",
       "</style>\n",
       "<table border=\"1\" class=\"dataframe\">\n",
       "  <thead>\n",
       "    <tr style=\"text-align: right;\">\n",
       "      <th></th>\n",
       "      <th>0.0</th>\n",
       "      <th>nan</th>\n",
       "      <th>1.0</th>\n",
       "      <th>2.0</th>\n",
       "    </tr>\n",
       "  </thead>\n",
       "  <tbody>\n",
       "    <tr>\n",
       "      <th>0</th>\n",
       "      <td>A</td>\n",
       "      <td>1.0</td>\n",
       "      <td>-1.525735</td>\n",
       "      <td>1.674080</td>\n",
       "    </tr>\n",
       "    <tr>\n",
       "      <th>1</th>\n",
       "      <td>A</td>\n",
       "      <td>1.0</td>\n",
       "      <td>6.069158</td>\n",
       "      <td>5.152899</td>\n",
       "    </tr>\n",
       "    <tr>\n",
       "      <th>2</th>\n",
       "      <td>A</td>\n",
       "      <td>1.0</td>\n",
       "      <td>-4.146633</td>\n",
       "      <td>1.081567</td>\n",
       "    </tr>\n",
       "    <tr>\n",
       "      <th>3</th>\n",
       "      <td>A</td>\n",
       "      <td>1.0</td>\n",
       "      <td>-4.994697</td>\n",
       "      <td>2.974933</td>\n",
       "    </tr>\n",
       "    <tr>\n",
       "      <th>4</th>\n",
       "      <td>A</td>\n",
       "      <td>1.0</td>\n",
       "      <td>-0.837513</td>\n",
       "      <td>-1.655131</td>\n",
       "    </tr>\n",
       "  </tbody>\n",
       "</table>\n",
       "</div>"
      ],
      "text/plain": [
       "   0.0  NaN        1.0       2.0\n",
       "0    A   1.0 -1.525735  1.674080\n",
       "1    A   1.0  6.069158  5.152899\n",
       "2    A   1.0 -4.146633  1.081567\n",
       "3    A   1.0 -4.994697  2.974933\n",
       "4    A   1.0 -0.837513 -1.655131"
      ]
     },
     "execution_count": 5,
     "metadata": {},
     "output_type": "execute_result"
    }
   ],
   "source": [
    "input_ds.head()"
   ]
  },
  {
   "cell_type": "code",
   "execution_count": 6,
   "metadata": {},
   "outputs": [
    {
     "name": "stdout",
     "output_type": "stream",
     "text": [
      "Number of columns: 4\n"
     ]
    }
   ],
   "source": [
    "n_cols = len(input_ds.columns)\n",
    "print(\"Number of columns:\", n_cols)"
   ]
  },
  {
   "cell_type": "code",
   "execution_count": 7,
   "metadata": {},
   "outputs": [
    {
     "name": "stdout",
     "output_type": "stream",
     "text": [
      "['labels', 'x_0', 'x_1', 'x_2']\n"
     ]
    }
   ],
   "source": [
    "#initiate empty list for column name\n",
    "col_name = []\n",
    "\n",
    "#naming scheme starts with x1 because we will concatenate\n",
    "#x0 = 1 vector in the list later \n",
    "for i in range(n_cols):\n",
    "    #last column is the target value\n",
    "    if (i == 0):\n",
    "        col_name.append('labels')\n",
    "    else:\n",
    "        col_name.append('x_{}'.format(i-1))\n",
    "        \n",
    "print(col_name)"
   ]
  },
  {
   "cell_type": "code",
   "execution_count": 8,
   "metadata": {
    "scrolled": true
   },
   "outputs": [
    {
     "name": "stdout",
     "output_type": "stream",
     "text": [
      "  labels  x_0       x_1       x_2\n",
      "0      A  1.0 -1.525735  1.674080\n",
      "1      A  1.0  6.069158  5.152899\n",
      "2      A  1.0 -4.146633  1.081567\n",
      "3      A  1.0 -4.994697  2.974933\n",
      "4      A  1.0 -0.837513 -1.655131\n"
     ]
    }
   ],
   "source": [
    "#assigning column names to data set\n",
    "input_ds.columns = col_name\n",
    "print (input_ds.head())"
   ]
  },
  {
   "cell_type": "code",
   "execution_count": 9,
   "metadata": {
    "scrolled": true
   },
   "outputs": [
    {
     "name": "stdout",
     "output_type": "stream",
     "text": [
      "[1 1 1 1 1 1 1 1 1 1 1 1 1 1 1 1 1 1 1 1 1 1 1 1 1 1 1 1 1 1 1 1 1 1 1 1 1\n",
      " 1 1 1 1 1 1 1 1 1 1 1 1 1 1 1 1 1 1 1 1 1 1 1 1 1 1 1 1 1 1 1 1 1 1 1 1 1\n",
      " 1 1 1 1 1 1 1 1 1 1 1 1 1 1 1 1 1 1 1 1 1 1 1 1 1 1 1 1 1 1 1 1 1 1 1 1 1\n",
      " 1 1 1 1 1 1 1 1 1 1 1 1 1 1 1 1 1 1 1 1 1 1 1 1 1 1 1 1 1 1 1 1 1 1 1 1 1\n",
      " 1 1 1 1 1 1 1 1 1 1 1 1 1 1 1 1 1 1 1 1 1 1 1 1 1 1 1 1 1 1 1 1 1 1 1 1 1\n",
      " 1 1 1 1 1 1 1 1 1 1 1 1 1 1 1 0 0 0 0 0 0 0 0 0 0 0 0 0 0 0 0 0 0 0 0 0 0\n",
      " 0 0 0 0 0 0 0 0 0 0 0 0 0 0 0 0 0 0 0 0 0 0 0 0 0 0 0 0 0 0 0 0 0 0 0 0 0\n",
      " 0 0 0 0 0 0 0 0 0 0 0 0 0 0 0 0 0 0 0 0 0 0 0 0 0 0 0 0 0 0 0 0 0 0 0 0 0\n",
      " 0 0 0 0 0 0 0 0 0 0 0 0 0 0 0 0 0 0 0 0 0 0 0 0 0 0 0 0 0 0 0 0 0 0 0 0 0\n",
      " 0 0 0 0 0 0 0 0 0 0 0 0 0 0 0 0 0 0 0 0 0 0 0 0 0 0 0 0 0 0 0 0 0 0 0 0 0\n",
      " 0 0 0 0 0 0 0 0 0 0 0 0 0 0 0 0 0 0 0 0 0 0 0 0 0 0 0 0 0 0]\n"
     ]
    }
   ],
   "source": [
    "#setting up label vector, if A then 1 else 0\n",
    "y = np.where(input_ds['labels']=='A',1,0)\n",
    "print(y)"
   ]
  },
  {
   "cell_type": "code",
   "execution_count": 10,
   "metadata": {
    "scrolled": true
   },
   "outputs": [
    {
     "name": "stdout",
     "output_type": "stream",
     "text": [
      "[[ 1.       -1.525735  1.67408 ]\n",
      " [ 1.        6.069158  5.152899]\n",
      " [ 1.       -4.146633  1.081567]\n",
      " ...\n",
      " [ 1.        0.133127  0.253598]\n",
      " [ 1.        2.430233 -5.353957]\n",
      " [ 1.        3.307525 -6.887782]]\n",
      "Shape of x: (400, 3)\n"
     ]
    }
   ],
   "source": [
    "x = input_ds.iloc[:,1:n_cols]\n",
    "x = np.squeeze(np.asarray(x))\n",
    "print(x)\n",
    "print(\"Shape of x:\",x.shape)"
   ]
  },
  {
   "cell_type": "markdown",
   "metadata": {},
   "source": [
    "-----------------------------------"
   ]
  },
  {
   "cell_type": "markdown",
   "metadata": {},
   "source": [
    "# Helper Function"
   ]
  },
  {
   "cell_type": "code",
   "execution_count": 11,
   "metadata": {},
   "outputs": [],
   "source": [
    "def y_pred(w,x):\n",
    "    w_x = np.dot(x,w)\n",
    "    return np.where(w_x>0,1,0)\n",
    "    \n",
    "def error_rate(y,y_p):\n",
    "    misclassified = np.abs(y-y_p)\n",
    "    return np.sum(misclassified)\n",
    "\n",
    "def anneal_lr(lr, iters):\n",
    "    if (iters==0):\n",
    "        return lr\n",
    "    else:\n",
    "        lr/=iters\n",
    "        return lr\n",
    "\n",
    "def lr_switch(lr, iters, toogle):\n",
    "    if (toogle==0):\n",
    "        return lr\n",
    "    else:\n",
    "        return anneal_lr(lr, iters)\n",
    "\n",
    "# def plot_2D(xy_label_A, xy_label_B, title = None):    \n",
    "#     plt.plot(xy_label_A['x_1'], xy_label_A['x_2'], 'r^', label='A')\n",
    "#     plt.plot(xy_label_B['x_1'], xy_label_B['x_2'], 'bs', label='B')\n",
    "#     if (title!=None):\n",
    "#         plt.title(title)\n",
    "#     plt.xlabel('x1')\n",
    "#     plt.ylabel('x2')\n",
    "#     plt.legend(loc='upper right')\n",
    "#     plt.show()\n",
    "\n",
    "def plot_2D(xy_label_A, xy_label_B, title = None, w = None, decision_boundary = False):    \n",
    "    plt.plot(xy_label_A['x_1'], xy_label_A['x_2'], 'r^', label='A')\n",
    "    plt.plot(xy_label_B['x_1'], xy_label_B['x_2'], 'bs', label='B')\n",
    "    if (title!=None):\n",
    "        plt.title(title)\n",
    "    plt.xlabel('x1')\n",
    "    plt.ylabel('x2')\n",
    "    plt.legend(loc='upper right')\n",
    "    if decision_boundary==True:\n",
    "        for i in np.linspace(np.min(xy_label_A['x_1']),np.max(xy_label_A['x_1'])):\n",
    "            slope = -w[1]/w[2]\n",
    "            intercept = -w[0]/w[2]\n",
    "            \n",
    "            #y = mx + c\n",
    "            y = (slope*i) + intercept\n",
    "            plt.plot(i, y,'ko')\n",
    "    plt.show()"
   ]
  },
  {
   "cell_type": "markdown",
   "metadata": {},
   "source": [
    "----------------------------------------"
   ]
  },
  {
   "cell_type": "markdown",
   "metadata": {},
   "source": [
    "# Main Algorithm"
   ]
  },
  {
   "cell_type": "code",
   "execution_count": 12,
   "metadata": {},
   "outputs": [],
   "source": [
    "lr_0 = 1\n",
    "lr_variant = 2\n",
    "error_variant_list = []\n",
    "y_pred_list = []\n",
    "w_variant_list = []\n",
    "\n",
    "for variant in range(lr_variant):\n",
    "    iters = 0\n",
    "    iters_max = 100\n",
    "    error_list = []\n",
    "    \n",
    "    while iters<=iters_max:\n",
    "        if (iters==0):\n",
    "            w = np.zeros(n_cols-1)\n",
    "        else:\n",
    "            w+=lr_switch(lr_0, iters, variant)*np.dot(x.transpose(), (y-y_p))\n",
    "\n",
    "        y_p = y_pred(w,x)\n",
    "        error = error_rate(y,y_p)\n",
    "        error_list.append(error)\n",
    "        \n",
    "        iters+=1\n",
    "    error_variant_list.append(error_list)\n",
    "    y_pred_list.append(y_p)\n",
    "    w_variant_list.append(w)"
   ]
  },
  {
   "cell_type": "code",
   "execution_count": 13,
   "metadata": {
    "scrolled": true
   },
   "outputs": [
    {
     "data": {
      "text/plain": [
       "[200,\n",
       " 152,\n",
       " 94,\n",
       " 107,\n",
       " 89,\n",
       " 268,\n",
       " 95,\n",
       " 91,\n",
       " 87,\n",
       " 88,\n",
       " 89,\n",
       " 87,\n",
       " 92,\n",
       " 111,\n",
       " 94,\n",
       " 113,\n",
       " 88,\n",
       " 240,\n",
       " 93,\n",
       " 89,\n",
       " 90,\n",
       " 89,\n",
       " 94,\n",
       " 89,\n",
       " 98,\n",
       " 233,\n",
       " 94,\n",
       " 88,\n",
       " 88,\n",
       " 88,\n",
       " 90,\n",
       " 86,\n",
       " 92,\n",
       " 100,\n",
       " 293,\n",
       " 96,\n",
       " 90,\n",
       " 87,\n",
       " 86,\n",
       " 93,\n",
       " 91,\n",
       " 90,\n",
       " 90,\n",
       " 92,\n",
       " 212,\n",
       " 95,\n",
       " 93,\n",
       " 83,\n",
       " 86,\n",
       " 90,\n",
       " 96,\n",
       " 108,\n",
       " 97,\n",
       " 149,\n",
       " 96,\n",
       " 132,\n",
       " 93,\n",
       " 175,\n",
       " 99,\n",
       " 87,\n",
       " 91,\n",
       " 114,\n",
       " 97,\n",
       " 146,\n",
       " 93,\n",
       " 129,\n",
       " 92,\n",
       " 173,\n",
       " 99,\n",
       " 87,\n",
       " 90,\n",
       " 107,\n",
       " 97,\n",
       " 167,\n",
       " 93,\n",
       " 92,\n",
       " 97,\n",
       " 233,\n",
       " 96,\n",
       " 90,\n",
       " 84,\n",
       " 89,\n",
       " 90,\n",
       " 89,\n",
       " 102,\n",
       " 86,\n",
       " 269,\n",
       " 95,\n",
       " 91,\n",
       " 85,\n",
       " 88,\n",
       " 90,\n",
       " 88,\n",
       " 93,\n",
       " 107,\n",
       " 93,\n",
       " 125,\n",
       " 93,\n",
       " 206,\n",
       " 97,\n",
       " 90]"
      ]
     },
     "execution_count": 13,
     "metadata": {},
     "output_type": "execute_result"
    }
   ],
   "source": [
    "error_variant_list[0]"
   ]
  },
  {
   "cell_type": "code",
   "execution_count": 14,
   "metadata": {
    "scrolled": true
   },
   "outputs": [
    {
     "data": {
      "text/plain": [
       "[200,\n",
       " 152,\n",
       " 90,\n",
       " 90,\n",
       " 88,\n",
       " 91,\n",
       " 92,\n",
       " 93,\n",
       " 92,\n",
       " 91,\n",
       " 90,\n",
       " 89,\n",
       " 87,\n",
       " 86,\n",
       " 87,\n",
       " 88,\n",
       " 88,\n",
       " 88,\n",
       " 89,\n",
       " 89,\n",
       " 88,\n",
       " 89,\n",
       " 89,\n",
       " 88,\n",
       " 89,\n",
       " 89,\n",
       " 89,\n",
       " 90,\n",
       " 90,\n",
       " 90,\n",
       " 90,\n",
       " 90,\n",
       " 90,\n",
       " 89,\n",
       " 89,\n",
       " 89,\n",
       " 89,\n",
       " 89,\n",
       " 89,\n",
       " 89,\n",
       " 89,\n",
       " 90,\n",
       " 89,\n",
       " 90,\n",
       " 89,\n",
       " 89,\n",
       " 89,\n",
       " 88,\n",
       " 90,\n",
       " 89,\n",
       " 89,\n",
       " 89,\n",
       " 89,\n",
       " 89,\n",
       " 89,\n",
       " 89,\n",
       " 89,\n",
       " 89,\n",
       " 89,\n",
       " 89,\n",
       " 88,\n",
       " 90,\n",
       " 89,\n",
       " 89,\n",
       " 89,\n",
       " 89,\n",
       " 89,\n",
       " 89,\n",
       " 88,\n",
       " 89,\n",
       " 89,\n",
       " 89,\n",
       " 89,\n",
       " 89,\n",
       " 89,\n",
       " 89,\n",
       " 89,\n",
       " 89,\n",
       " 89,\n",
       " 89,\n",
       " 89,\n",
       " 89,\n",
       " 88,\n",
       " 89,\n",
       " 89,\n",
       " 89,\n",
       " 89,\n",
       " 89,\n",
       " 90,\n",
       " 89,\n",
       " 89,\n",
       " 89,\n",
       " 89,\n",
       " 89,\n",
       " 89,\n",
       " 88,\n",
       " 89,\n",
       " 89,\n",
       " 89,\n",
       " 89,\n",
       " 89]"
      ]
     },
     "execution_count": 14,
     "metadata": {},
     "output_type": "execute_result"
    }
   ],
   "source": [
    "error_variant_list[1]"
   ]
  },
  {
   "cell_type": "markdown",
   "metadata": {},
   "source": [
    "------------------------------------"
   ]
  },
  {
   "cell_type": "markdown",
   "metadata": {},
   "source": [
    "# Write .tsv"
   ]
  },
  {
   "cell_type": "code",
   "execution_count": 15,
   "metadata": {},
   "outputs": [],
   "source": [
    "output_path = 'tsv/Example_Errors.tsv'\n",
    "with open(output_path, 'wt') as write_tsv:\n",
    "    tsv_writer = csv.writer(write_tsv, delimiter='\\t')\n",
    "    for i in range(len(error_variant_list)):\n",
    "        tsv_writer.writerow(error_variant_list[i])"
   ]
  },
  {
   "cell_type": "markdown",
   "metadata": {},
   "source": [
    "--------------------------------"
   ]
  },
  {
   "cell_type": "markdown",
   "metadata": {},
   "source": [
    "# Data Visualization"
   ]
  },
  {
   "cell_type": "markdown",
   "metadata": {},
   "source": [
    "## Initial State"
   ]
  },
  {
   "cell_type": "code",
   "execution_count": 16,
   "metadata": {},
   "outputs": [],
   "source": [
    "#remove bias column\n",
    "plt_ds = input_ds.drop('x_0', axis=1)"
   ]
  },
  {
   "cell_type": "code",
   "execution_count": 17,
   "metadata": {},
   "outputs": [],
   "source": [
    "#xy points for label A\n",
    "xy_label_A = plt_ds.where(plt_ds['labels']=='A').dropna().drop('labels', axis=1)\n",
    "#xy points for label B\n",
    "xy_label_B = plt_ds.where(plt_ds['labels']=='B').dropna().drop('labels', axis=1)"
   ]
  },
  {
   "cell_type": "code",
   "execution_count": 18,
   "metadata": {},
   "outputs": [
    {
     "data": {
      "image/png": "[encoded data removed]",
      "text/plain": [
       "<Figure size 432x288 with 1 Axes>"
      ]
     },
     "metadata": {},
     "output_type": "display_data"
    }
   ],
   "source": [
    "title = 'Initial State'\n",
    "plot_2D(xy_label_A, xy_label_B, title)"
   ]
  },
  {
   "cell_type": "markdown",
   "metadata": {},
   "source": [
    "## Constant Learning Rate"
   ]
  },
  {
   "cell_type": "code",
   "execution_count": 19,
   "metadata": {},
   "outputs": [],
   "source": [
    "#replacing new labels to the dataset\n",
    "static_lr_plt_ds = plt_ds\n",
    "static_lr_plt_ds['labels']=y_pred_list[0]"
   ]
  },
  {
   "cell_type": "code",
   "execution_count": 20,
   "metadata": {},
   "outputs": [],
   "source": [
    "#xy points for label A\n",
    "xy_update_A = plt_ds.where(static_lr_plt_ds['labels']== 1).dropna().drop('labels', axis=1)\n",
    "#xy points for label B\n",
    "xy_update_B = plt_ds.where(static_lr_plt_ds['labels']== 0).dropna().drop('labels', axis=1)"
   ]
  },
  {
   "cell_type": "code",
   "execution_count": 21,
   "metadata": {},
   "outputs": [
    {
     "data": {
      "image/png": "[encoded data removed]",
      "text/plain": [
       "<Figure size 432x288 with 1 Axes>"
      ]
     },
     "metadata": {},
     "output_type": "display_data"
    }
   ],
   "source": [
    "title = 'Constant Learning Rate after 100 Iterations'\n",
    "plot_2D(xy_update_A, xy_update_B, title, w_variant_list[0], decision_boundary = True)"
   ]
  },
  {
   "cell_type": "markdown",
   "metadata": {},
   "source": [
    "## Anneal Learning Rate"
   ]
  },
  {
   "cell_type": "code",
   "execution_count": 22,
   "metadata": {},
   "outputs": [
    {
     "data": {
      "image/png": "[encoded data removed]",
      "text/plain": [
       "<Figure size 432x288 with 1 Axes>"
      ]
     },
     "metadata": {},
     "output_type": "display_data"
    }
   ],
   "source": [
    "#replacing new labels to the dataset\n",
    "anneal_lr_plt_ds = plt_ds\n",
    "anneal_lr_plt_ds['labels']=y_pred_list[1]\n",
    "\n",
    "#xy points for label A\n",
    "xy_update_A2 = plt_ds.where(anneal_lr_plt_ds['labels']== 1).dropna().drop('labels', axis=1)\n",
    "#xy points for label B\n",
    "xy_update_B2 = plt_ds.where(anneal_lr_plt_ds['labels']== 0).dropna().drop('labels', axis=1)\n",
    "#plot graph\n",
    "title = 'Anneal Learning Rate after 100 Iterations'\n",
    "plot_2D(xy_update_A2, xy_update_B2, title, w_variant_list[1], decision_boundary = True)"
   ]
  }
 ],
 "metadata": {
  "kernelspec": {
   "display_name": "Python 3",
   "language": "python",
   "name": "python3"
  },
  "language_info": {
   "codemirror_mode": {
    "name": "ipython",
    "version": 3
   },
   "file_extension": ".py",
   "mimetype": "text/x-python",
   "name": "python",
   "nbconvert_exporter": "python",
   "pygments_lexer": "ipython3",
   "version": "3.6.6"
  }
 },
 "nbformat": 4,
 "nbformat_minor": 2
}
