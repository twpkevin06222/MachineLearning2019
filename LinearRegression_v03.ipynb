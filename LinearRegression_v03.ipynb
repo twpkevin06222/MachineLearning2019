{
 "cells": [
  {
   "cell_type": "code",
   "execution_count": 2,
   "metadata": {},
   "outputs": [],
   "source": [
    "import numpy as np \n",
    "import matplotlib.pyplot as plt \n",
    "%matplotlib inline\n",
    "import pandas as pd "
   ]
  },
  {
   "cell_type": "markdown",
   "metadata": {},
   "source": [
    "------------------------------"
   ]
  },
  {
   "cell_type": "markdown",
   "metadata": {},
   "source": [
    "# Data slicing "
   ]
  },
  {
   "cell_type": "code",
   "execution_count": 3,
   "metadata": {
    "scrolled": true
   },
   "outputs": [
    {
     "name": "stdout",
     "output_type": "stream",
     "text": [
      "Number of columns: 4\n"
     ]
    }
   ],
   "source": [
    "input_path = '/home/kevinteng/Desktop/linreg/'\n",
    "input_ds = pd.read_csv(input_path + 'random.csv', header = None)\n",
    "n_cols = len(input_ds.columns)\n",
    "print(\"Number of columns:\", n_cols)"
   ]
  },
  {
   "cell_type": "markdown",
   "metadata": {},
   "source": [
    "## Naming columns "
   ]
  },
  {
   "cell_type": "code",
   "execution_count": 4,
   "metadata": {},
   "outputs": [
    {
     "name": "stdout",
     "output_type": "stream",
     "text": [
      "['x_0', 'x_1', 'x_2', 'y']\n"
     ]
    }
   ],
   "source": [
    "col_name = []\n",
    "for i in range(n_cols):\n",
    "    #last column is the target value\n",
    "    if (i == n_cols-1):\n",
    "        col_name.append('y')\n",
    "    else:\n",
    "        col_name.append('x_{}'.format(i))\n",
    "        \n",
    "print(col_name)"
   ]
  },
  {
   "cell_type": "code",
   "execution_count": 5,
   "metadata": {
    "scrolled": true
   },
   "outputs": [
    {
     "name": "stdout",
     "output_type": "stream",
     "text": [
      "    x_0   x_1       x_2         y\n",
      "0 -3.40 -0.61  2.738000  7.496644\n",
      "1 -3.11  3.85  0.366667  0.134444\n",
      "2 -0.12 -2.72  0.442667  0.195954\n",
      "3  0.08 -0.53 -0.779333  0.607360\n",
      "4  0.20 -3.86  0.654667  0.428588\n"
     ]
    }
   ],
   "source": [
    "#assigning column names to data set\n",
    "input_ds.columns = col_name\n",
    "print (input_ds.head())"
   ]
  },
  {
   "cell_type": "code",
   "execution_count": 22,
   "metadata": {},
   "outputs": [],
   "source": [
    "x = input_ds.iloc[:,0:3]\n",
    "# b = np.ones([x.shape[0], 1])\n",
    "# x = np.concatenate((b,x), axis = 1)\n",
    "y = input_ds.iloc[:,3]"
   ]
  },
  {
   "cell_type": "markdown",
   "metadata": {},
   "source": [
    "-----------------------------------------------"
   ]
  },
  {
   "cell_type": "markdown",
   "metadata": {},
   "source": [
    "# Helper Functions"
   ]
  },
  {
   "cell_type": "code",
   "execution_count": 28,
   "metadata": {},
   "outputs": [],
   "source": [
    "def set_array(inps):\n",
    "    '''\n",
    "    @param inps: sliced data frame\n",
    "    Converts dataframe into numpy array for easy work out\n",
    "    '''\n",
    "    inps = np.asarray(inps)\n",
    "    #squeeze to remove indexing column from pandas\n",
    "    return np.squeeze(inps)\n",
    "\n",
    "def sq_loss(y_true, y_pred):\n",
    "    '''\n",
    "    Compute sum of squared loss\n",
    "    @param y_true: array of target values/labels\n",
    "    @param y_pred: array of predicted values\n",
    "    \n",
    "    return: sum of squared loss\n",
    "    '''\n",
    "    #squaring loss\n",
    "    sq = (y_true - y_pred)**2 \n",
    "    return np.sum(sq)\n",
    "\n",
    "def abs_loss(y_true, y_pred):\n",
    "    '''\n",
    "    Compute sum of absolute loss\n",
    "    @param y_true: array of target values/labels\n",
    "    @param y_pred: array of predicted values\n",
    "    \n",
    "    return: sum of absolute loss\n",
    "    '''\n",
    "    abs_dif = np.abs(y_true - y_pred)\n",
    "    return np.sum(abs_dif)\n",
    "\n",
    "def grad(x, y, w):\n",
    "    \n",
    "    lin_func = w*x\n",
    "    return np.sum(x*(y - lin_func))\n",
    "\n",
    "def lin_func(x, y, w):\n",
    "    stack = np.empty_like(x[0])*0\n",
    "    for i in range(len(x)):\n",
    "        stack += w[i]*x[i]\n",
    "    return stack"
   ]
  },
  {
   "cell_type": "code",
   "execution_count": 38,
   "metadata": {},
   "outputs": [],
   "source": [
    "y = set_array(y)\n",
    "x = set_array(x)\n",
    "\n",
    "\n",
    "w = np.zeros(x.shape[1])\n",
    "\n",
    "y_hat = np.sum(w*x, axis = 1)"
   ]
  },
  {
   "cell_type": "code",
   "execution_count": 42,
   "metadata": {},
   "outputs": [
    {
     "data": {
      "text/plain": [
       "(1000, 3)"
      ]
     },
     "execution_count": 42,
     "metadata": {},
     "output_type": "execute_result"
    }
   ],
   "source": [
    "x.shape"
   ]
  },
  {
   "cell_type": "code",
   "execution_count": 50,
   "metadata": {},
   "outputs": [],
   "source": [
    "grad = np.sum(x.transpose()*(y-y_hat), axis = 1)"
   ]
  },
  {
   "cell_type": "code",
   "execution_count": 53,
   "metadata": {},
   "outputs": [
    {
     "data": {
      "text/plain": [
       "array([ 1.07817988,  0.52257377, -2.02971078])"
      ]
     },
     "execution_count": 53,
     "metadata": {},
     "output_type": "execute_result"
    }
   ],
   "source": [
    "grad*0.0001"
   ]
  },
  {
   "cell_type": "code",
   "execution_count": 55,
   "metadata": {},
   "outputs": [
    {
     "name": "stdout",
     "output_type": "stream",
     "text": [
      "7475.314899103856\n"
     ]
    }
   ],
   "source": [
    "loss = abs_loss(y, y_hat)\n",
    "print(loss)"
   ]
  },
  {
   "cell_type": "code",
   "execution_count": null,
   "metadata": {},
   "outputs": [],
   "source": [
    "steps = 0\n",
    "lr = 0.0001\n",
    "while steps<=10:\n",
    "    if steps == 0:\n",
    "        w = np.zeros(x.shape[1])\n",
    "    else:\n",
    "        w +=lr*(grad)\n",
    "    \n",
    "    y_pred = w*x  \n",
    "    \n",
    "    grad = np.sum(x*(y- w*x), axis = 0)\n",
    "    loss = abs_loss(y, y_pred)\n",
    "    \n",
    "    \n",
    "    "
   ]
  }
 ],
 "metadata": {
  "kernelspec": {
   "display_name": "Python 3",
   "language": "python",
   "name": "python3"
  },
  "language_info": {
   "codemirror_mode": {
    "name": "ipython",
    "version": 3
   },
   "file_extension": ".py",
   "mimetype": "text/x-python",
   "name": "python",
   "nbconvert_exporter": "python",
   "pygments_lexer": "ipython3",
   "version": "3.6.6"
  }
 },
 "nbformat": 4,
 "nbformat_minor": 2
}
