{
 "cells": [
  {
   "cell_type": "code",
   "execution_count": 1,
   "metadata": {},
   "outputs": [],
   "source": [
    "import numpy as np \n",
    "import csv\n",
    "import pandas as pd\n",
    "import matplotlib.pyplot as plt\n",
    "from math import pi, exp, sqrt\n",
    "%matplotlib inline"
   ]
  },
  {
   "cell_type": "markdown",
   "metadata": {},
   "source": [
    "------------------------------------"
   ]
  },
  {
   "cell_type": "markdown",
   "metadata": {},
   "source": [
    "# Data Preprocessing"
   ]
  },
  {
   "cell_type": "code",
   "execution_count": 2,
   "metadata": {},
   "outputs": [],
   "source": [
    "input_path = \"tsv/Gauss2.tsv\"\n",
    "input_ds = pd.read_csv(input_path, header = None, sep=\"\\t\")"
   ]
  },
  {
   "cell_type": "code",
   "execution_count": 3,
   "metadata": {
    "scrolled": true
   },
   "outputs": [
    {
     "data": {
      "text/html": [
       "<div>\n",
       "<style scoped>\n",
       "    .dataframe tbody tr th:only-of-type {\n",
       "        vertical-align: middle;\n",
       "    }\n",
       "\n",
       "    .dataframe tbody tr th {\n",
       "        vertical-align: top;\n",
       "    }\n",
       "\n",
       "    .dataframe thead th {\n",
       "        text-align: right;\n",
       "    }\n",
       "</style>\n",
       "<table border=\"1\" class=\"dataframe\">\n",
       "  <thead>\n",
       "    <tr style=\"text-align: right;\">\n",
       "      <th></th>\n",
       "      <th>0</th>\n",
       "      <th>1</th>\n",
       "      <th>2</th>\n",
       "    </tr>\n",
       "  </thead>\n",
       "  <tbody>\n",
       "    <tr>\n",
       "      <th>0</th>\n",
       "      <td>A</td>\n",
       "      <td>-5.755629</td>\n",
       "      <td>-0.554747</td>\n",
       "    </tr>\n",
       "    <tr>\n",
       "      <th>1</th>\n",
       "      <td>A</td>\n",
       "      <td>-1.852536</td>\n",
       "      <td>-2.557782</td>\n",
       "    </tr>\n",
       "    <tr>\n",
       "      <th>2</th>\n",
       "      <td>A</td>\n",
       "      <td>-6.519323</td>\n",
       "      <td>-2.183189</td>\n",
       "    </tr>\n",
       "    <tr>\n",
       "      <th>3</th>\n",
       "      <td>A</td>\n",
       "      <td>-0.119174</td>\n",
       "      <td>1.324593</td>\n",
       "    </tr>\n",
       "    <tr>\n",
       "      <th>4</th>\n",
       "      <td>A</td>\n",
       "      <td>-4.596561</td>\n",
       "      <td>-1.882125</td>\n",
       "    </tr>\n",
       "  </tbody>\n",
       "</table>\n",
       "</div>"
      ],
      "text/plain": [
       "   0         1         2\n",
       "0  A -5.755629 -0.554747\n",
       "1  A -1.852536 -2.557782\n",
       "2  A -6.519323 -2.183189\n",
       "3  A -0.119174  1.324593\n",
       "4  A -4.596561 -1.882125"
      ]
     },
     "execution_count": 3,
     "metadata": {},
     "output_type": "execute_result"
    }
   ],
   "source": [
    "input_ds.head()"
   ]
  },
  {
   "cell_type": "code",
   "execution_count": 4,
   "metadata": {},
   "outputs": [],
   "source": [
    "input_ds = input_ds.dropna(axis='columns')"
   ]
  },
  {
   "cell_type": "code",
   "execution_count": 5,
   "metadata": {
    "scrolled": true
   },
   "outputs": [
    {
     "data": {
      "text/html": [
       "<div>\n",
       "<style scoped>\n",
       "    .dataframe tbody tr th:only-of-type {\n",
       "        vertical-align: middle;\n",
       "    }\n",
       "\n",
       "    .dataframe tbody tr th {\n",
       "        vertical-align: top;\n",
       "    }\n",
       "\n",
       "    .dataframe thead th {\n",
       "        text-align: right;\n",
       "    }\n",
       "</style>\n",
       "<table border=\"1\" class=\"dataframe\">\n",
       "  <thead>\n",
       "    <tr style=\"text-align: right;\">\n",
       "      <th></th>\n",
       "      <th>0</th>\n",
       "      <th>1</th>\n",
       "      <th>2</th>\n",
       "    </tr>\n",
       "  </thead>\n",
       "  <tbody>\n",
       "    <tr>\n",
       "      <th>0</th>\n",
       "      <td>A</td>\n",
       "      <td>-5.755629</td>\n",
       "      <td>-0.554747</td>\n",
       "    </tr>\n",
       "    <tr>\n",
       "      <th>1</th>\n",
       "      <td>A</td>\n",
       "      <td>-1.852536</td>\n",
       "      <td>-2.557782</td>\n",
       "    </tr>\n",
       "    <tr>\n",
       "      <th>2</th>\n",
       "      <td>A</td>\n",
       "      <td>-6.519323</td>\n",
       "      <td>-2.183189</td>\n",
       "    </tr>\n",
       "    <tr>\n",
       "      <th>3</th>\n",
       "      <td>A</td>\n",
       "      <td>-0.119174</td>\n",
       "      <td>1.324593</td>\n",
       "    </tr>\n",
       "    <tr>\n",
       "      <th>4</th>\n",
       "      <td>A</td>\n",
       "      <td>-4.596561</td>\n",
       "      <td>-1.882125</td>\n",
       "    </tr>\n",
       "  </tbody>\n",
       "</table>\n",
       "</div>"
      ],
      "text/plain": [
       "   0         1         2\n",
       "0  A -5.755629 -0.554747\n",
       "1  A -1.852536 -2.557782\n",
       "2  A -6.519323 -2.183189\n",
       "3  A -0.119174  1.324593\n",
       "4  A -4.596561 -1.882125"
      ]
     },
     "execution_count": 5,
     "metadata": {},
     "output_type": "execute_result"
    }
   ],
   "source": [
    "input_ds.head()"
   ]
  },
  {
   "cell_type": "code",
   "execution_count": 6,
   "metadata": {},
   "outputs": [
    {
     "name": "stdout",
     "output_type": "stream",
     "text": [
      "Number of columns: 3\n"
     ]
    }
   ],
   "source": [
    "n_cols = len(input_ds.columns)\n",
    "print(\"Number of columns:\", n_cols)"
   ]
  },
  {
   "cell_type": "code",
   "execution_count": 7,
   "metadata": {},
   "outputs": [
    {
     "name": "stdout",
     "output_type": "stream",
     "text": [
      "['labels', 'x_0', 'x_1']\n"
     ]
    }
   ],
   "source": [
    "#initiate empty list for column name\n",
    "col_name = []\n",
    "\n",
    "#naming scheme starts with x1 because we will concatenate\n",
    "#x0 = 1 vector in the list later \n",
    "for i in range(n_cols):\n",
    "    #last column is the target value\n",
    "    if (i == 0):\n",
    "        col_name.append('labels')\n",
    "    else:\n",
    "        col_name.append('x_{}'.format(i-1))\n",
    "        \n",
    "print(col_name)"
   ]
  },
  {
   "cell_type": "code",
   "execution_count": 8,
   "metadata": {
    "scrolled": true
   },
   "outputs": [
    {
     "name": "stdout",
     "output_type": "stream",
     "text": [
      "  labels       x_0       x_1\n",
      "0      A -5.755629 -0.554747\n",
      "1      A -1.852536 -2.557782\n",
      "2      A -6.519323 -2.183189\n",
      "3      A -0.119174  1.324593\n",
      "4      A -4.596561 -1.882125\n"
     ]
    }
   ],
   "source": [
    "#assigning column names to data set\n",
    "input_ds.columns = col_name\n",
    "print (input_ds.head())"
   ]
  },
  {
   "cell_type": "code",
   "execution_count": 9,
   "metadata": {
    "scrolled": true
   },
   "outputs": [
    {
     "name": "stdout",
     "output_type": "stream",
     "text": [
      "['A' 'B']\n",
      "[1000 1000]\n"
     ]
    }
   ],
   "source": [
    "#calculate labels\n",
    "vals, counts = np.unique(input_ds['labels'], return_counts= True)\n",
    "print(vals)\n",
    "print(counts)"
   ]
  },
  {
   "cell_type": "code",
   "execution_count": 10,
   "metadata": {},
   "outputs": [
    {
     "name": "stdout",
     "output_type": "stream",
     "text": [
      "['A' 'A' 'A' 'A' 'A']\n"
     ]
    }
   ],
   "source": [
    "#set up class\n",
    "c = np.squeeze(np.asarray(input_ds['labels']))\n",
    "#print first 5 rows\n",
    "print(c[:5])"
   ]
  },
  {
   "cell_type": "code",
   "execution_count": 11,
   "metadata": {
    "scrolled": true
   },
   "outputs": [
    {
     "name": "stdout",
     "output_type": "stream",
     "text": [
      "[[-5.75562875 -0.55474662]\n",
      " [-1.85253592 -2.55778201]\n",
      " [-6.51932326 -2.18318904]\n",
      " [-0.11917416  1.32459326]\n",
      " [-4.59656067 -1.88212514]]\n",
      "Shape of x: (2000, 2)\n"
     ]
    }
   ],
   "source": [
    "#set up attributes\n",
    "x = input_ds.iloc[:,1:n_cols]\n",
    "x = np.squeeze(np.asarray(x))\n",
    "#print first 5 rows\n",
    "print(x[:5,:])\n",
    "print(\"Shape of x:\",x.shape)"
   ]
  },
  {
   "cell_type": "markdown",
   "metadata": {},
   "source": [
    "-----------------------------------"
   ]
  },
  {
   "cell_type": "markdown",
   "metadata": {},
   "source": [
    "# Helper Function"
   ]
  },
  {
   "cell_type": "code",
   "execution_count": 12,
   "metadata": {},
   "outputs": [],
   "source": [
    "def retrieve_class_index(class_col, vals):\n",
    "    '''\n",
    "    Retrieve the class index w.r.t the class row\n",
    "    \n",
    "    @param class_col: The column or array where the class is stored\n",
    "    @param vals: list containing the classes\n",
    "    \n",
    "    return a list of index\n",
    "    '''\n",
    "    index_list = []\n",
    "    for val in vals:\n",
    "        index_array = np.where(class_col==val)\n",
    "        index_list.append(index_array)\n",
    "    return index_list\n",
    "\n",
    "def mean(x, index_list, counts):\n",
    "    '''\n",
    "    Compute the mean w.r.t class and attribute \n",
    "    \n",
    "    @pararm x: The array of where x attributes is stored \n",
    "    @param index_list: list of index w.r.t the class \n",
    "    @param counts: the number of particular class\n",
    "    \n",
    "    return: An array of mean with size (n_class, n_attribute)\n",
    "    '''\n",
    "    class_means = []\n",
    "    for i in range(len(index_list)):\n",
    "        #sum the x attributes in rows w.r.t the same class index \n",
    "        x_sum = np.sum([x[idx] for idx in index_list[i]], axis=1)\n",
    "        class_mean = x_sum/counts[i]\n",
    "        class_means.append(class_mean)\n",
    "    return np.squeeze(np.asarray(class_means))\n",
    "\n",
    "def variance(x, index_list, mean_arr, counts):\n",
    "    '''\n",
    "    Compute the variance (sigma**2) w.r.t class and attribute \n",
    "    \n",
    "    @pararm x: The array of where x attributes is stored \n",
    "    @param index_list: list of index w.r.t the class \n",
    "    @param mean_arr: Array of mean with size (n_class, n_attribute)\n",
    "    @param counts: the number of particular class\n",
    "    \n",
    "    return: An array of variance with size (n_class, n_attribute)\n",
    "    '''\n",
    "    variance_list = []\n",
    "    for i in range(len(index_list)):\n",
    "        #retrieve x attributes w.r.t the same class index \n",
    "        x_class = np.array([x[idx] for idx in index_list[i]])\n",
    "        sum_func = np.sum((x_class-mean_arr[i])**2, axis = 1)\n",
    "        variance_class = sum_func/(counts[i]-1.0)\n",
    "        variance_list.append(variance_class)\n",
    "    return np.squeeze(np.asarray(variance_list))\n",
    "\n",
    "def likelihood(x, mean, variance):\n",
    "    '''\n",
    "    Compute the likelihood, which is the joint probability\n",
    "    p(a|c), the probability of attribute x, given class c\n",
    "    \n",
    "    @param x: x attribute\n",
    "    @param mean: mean value\n",
    "    @param variance: variance value\n",
    "    \n",
    "    return: likelihood \n",
    "    '''\n",
    "    denominator = sqrt(2*pi*variance)\n",
    "    exp_term = exp(-(((x-mean)**2)/(2*variance)))\n",
    "    return exp_term/denominator\n",
    "\n",
    "def prob_class(class_col, counts):\n",
    "    '''\n",
    "    Calculate the probability of each class respectively\n",
    "    \n",
    "    @param class_col: The column of class data being stored\n",
    "    \n",
    "    return: list of class probability  \n",
    "    '''\n",
    "    class_probs = [] # list to store class means\n",
    "    for count in counts:\n",
    "        class_prob = count/len(class_col)\n",
    "        class_probs.append(class_prob)\n",
    "    return class_probs\n",
    "\n",
    "def plot_2D(xy_label_A, xy_label_B, title = None): \n",
    "    '''\n",
    "    This function plots a 2D graph for illustrating the data points\n",
    "    \n",
    "    @param xy_label_A: x,y data points associating with label A\n",
    "    @param xy_label_B: x,y data points associating with label B\n",
    "    @param title: title of the plot\n",
    "    '''\n",
    "    plt.plot(xy_label_A['x_0'], xy_label_A['x_1'], 'r^', label='A')\n",
    "    plt.plot(xy_label_B['x_0'], xy_label_B['x_1'], 'bs', label='B')\n",
    "    if (title!=None):\n",
    "        plt.title(title)\n",
    "    plt.xlabel('x0')\n",
    "    plt.ylabel('x1')\n",
    "    plt.legend(loc='upper right')\n",
    "    plt.show()"
   ]
  },
  {
   "cell_type": "markdown",
   "metadata": {},
   "source": [
    "----------------------------------------"
   ]
  },
  {
   "cell_type": "markdown",
   "metadata": {},
   "source": [
    "# Main Algorithm"
   ]
  },
  {
   "cell_type": "code",
   "execution_count": 13,
   "metadata": {},
   "outputs": [],
   "source": [
    "index_list = retrieve_class_index(c, vals)\n",
    "prior_arr = prob_class(c, counts)\n",
    "mean_arr = mean(x, index_list, counts)\n",
    "variance_arr = variance(x, index_list, mean_arr, counts)"
   ]
  },
  {
   "cell_type": "code",
   "execution_count": 14,
   "metadata": {
    "scrolled": true
   },
   "outputs": [
    {
     "name": "stdout",
     "output_type": "stream",
     "text": [
      "[[-1.12661774  0.10391812]\n",
      " [ 4.05728115  5.95845018]]\n",
      "\n",
      "[['M_00' 'M_01']\n",
      " ['M_10' 'M_11']]\n"
     ]
    }
   ],
   "source": [
    "print(mean_arr)\n",
    "\n",
    "n_clc = mean_arr.shape[0]\n",
    "n_att = mean_arr.shape[1]\n",
    "#read as M_clc_att\n",
    "mean_interpretation = []\n",
    "for clc in range(n_clc):\n",
    "    for att in range(n_att):\n",
    "        mean_interpretation.append(\"M_{}{}\".format(clc,att))\n",
    "mean_interpretation = np.reshape(mean_interpretation, (n_clc,n_att))\n",
    "\n",
    "print()\n",
    "print(mean_interpretation)"
   ]
  },
  {
   "cell_type": "code",
   "execution_count": 15,
   "metadata": {},
   "outputs": [
    {
     "name": "stdout",
     "output_type": "stream",
     "text": [
      "[[17.56001328  3.04117422]\n",
      " [ 3.74086931  5.27812687]]\n",
      "\n",
      "[['V_00' 'V_01']\n",
      " ['V_10' 'V_11']]\n"
     ]
    }
   ],
   "source": [
    "print(variance_arr)\n",
    "\n",
    "n_clc = mean_arr.shape[0]\n",
    "n_att = mean_arr.shape[1]\n",
    "#read as V_clc_att\n",
    "variance_interpretation = []\n",
    "for clc in range(n_clc):\n",
    "    for att in range(n_att):\n",
    "        variance_interpretation.append(\"V_{}{}\".format(clc,att))\n",
    "variance_interpretation = np.reshape(variance_interpretation, (n_clc,n_att))\n",
    "\n",
    "print()\n",
    "print(variance_interpretation)"
   ]
  },
  {
   "cell_type": "code",
   "execution_count": 16,
   "metadata": {},
   "outputs": [
    {
     "name": "stdout",
     "output_type": "stream",
     "text": [
      "0.00550876538262077\n"
     ]
    }
   ],
   "source": [
    "#testing for likelihood of dataset row 1, x[0,0],x[0,1]  with mean and variance of class A \n",
    "like_01 = likelihood(x[0,0], mean_arr[0,0], variance_arr[0,0])\n",
    "like_02 = likelihood(x[0,1], mean_arr[0,1], variance_arr[0,1])\n",
    "classifier = prior_arr[0]*like_01*like_02\n",
    "print(classifier)"
   ]
  },
  {
   "cell_type": "code",
   "execution_count": 17,
   "metadata": {
    "scrolled": true
   },
   "outputs": [
    {
     "name": "stdout",
     "output_type": "stream",
     "text": [
      "8.283916283516802e-10\n"
     ]
    }
   ],
   "source": [
    "#testing for likelihood of dataset row 1, x[0,0],x[0,1]  with mean and variance of class B\n",
    "like_03 = likelihood(x[0,0], mean_arr[1,0], variance_arr[1,0])\n",
    "like_04 = likelihood(x[0,1], mean_arr[1,1], variance_arr[1,1])\n",
    "classifier_02 = prior_arr[1]*like_03*like_04\n",
    "print(classifier_02)"
   ]
  },
  {
   "cell_type": "code",
   "execution_count": 18,
   "metadata": {
    "scrolled": true
   },
   "outputs": [],
   "source": [
    "argmax_list = []\n",
    "idx_argmax_list = []\n",
    "for idx in range(len(x)):\n",
    "    posterior_list= []\n",
    "    for clc in range(n_clc):\n",
    "        total_likelihood = 1\n",
    "        for att in range(n_att):\n",
    "            total_likelihood *=likelihood(x[idx, att], mean_arr[clc, att], \n",
    "                                          variance_arr[clc, att])\n",
    "#                 print(\"x[{},{}], mean[{},{}], variance[{},{}]\".format(idx, att, clc, att, clc, att))\n",
    "        posterior_list.append(prior_arr[clc]*total_likelihood)\n",
    "#         print()\n",
    "    idx_argmax = np.argmax(posterior_list)\n",
    "    idx_argmax_list.append(idx_argmax)\n",
    "argmax_list.append(idx_argmax_list)"
   ]
  },
  {
   "cell_type": "code",
   "execution_count": 19,
   "metadata": {},
   "outputs": [],
   "source": [
    "argmax_list = np.squeeze(np.asarray(argmax_list)) #convert tuple to array\n",
    "argmax_list = np.reshape((argmax_list),(-1)) #flatten the array "
   ]
  },
  {
   "cell_type": "code",
   "execution_count": 20,
   "metadata": {},
   "outputs": [
    {
     "name": "stdout",
     "output_type": "stream",
     "text": [
      "['A' 'A' 'A' ... 'B' 'B' 'B']\n"
     ]
    }
   ],
   "source": [
    "#map the idx to the class for comparison\n",
    "map_idx2class = np.array([vals[idx] for idx in argmax_list])\n",
    "print(map_idx2class)"
   ]
  },
  {
   "cell_type": "code",
   "execution_count": 21,
   "metadata": {},
   "outputs": [
    {
     "name": "stdout",
     "output_type": "stream",
     "text": [
      "[ True  True  True ...  True  True  True]\n"
     ]
    }
   ],
   "source": [
    "comparator_arr = np.array([map_idx2class[idx] == c[idx] for idx in range(len(c))])\n",
    "print(comparator_arr)"
   ]
  },
  {
   "cell_type": "code",
   "execution_count": 22,
   "metadata": {
    "scrolled": false
   },
   "outputs": [
    {
     "name": "stdout",
     "output_type": "stream",
     "text": [
      "Number of missclassified class: 104\n",
      "Accuracy = 0.948\n"
     ]
    }
   ],
   "source": [
    "missclassified = np.sum(np.where(comparator_arr==False,1,0))\n",
    "print(\"Number of missclassified class: {}\".format(missclassified))\n",
    "accuracy = (len(c)-missclassified)/len(c)\n",
    "print(\"Accuracy = {}\".format(accuracy))"
   ]
  },
  {
   "cell_type": "markdown",
   "metadata": {},
   "source": [
    "------------------------------------"
   ]
  },
  {
   "cell_type": "markdown",
   "metadata": {},
   "source": [
    "# Write .tsv"
   ]
  },
  {
   "cell_type": "code",
   "execution_count": 23,
   "metadata": {},
   "outputs": [],
   "source": [
    "n_clc = mean_arr.shape[0]\n",
    "n_att = mean_arr.shape[1]\n",
    "\n",
    "output_total = []\n",
    "for clc in range(n_clc):\n",
    "    output_list_class = []\n",
    "    for att in range(n_att):\n",
    "        output_list_class.append(mean_arr[clc, att])\n",
    "        output_list_class.append(variance_arr[clc, att])\n",
    "    output_list_class.append(prior_arr[clc])\n",
    "    output_total.append(output_list_class)"
   ]
  },
  {
   "cell_type": "code",
   "execution_count": 24,
   "metadata": {},
   "outputs": [
    {
     "name": "stdout",
     "output_type": "stream",
     "text": [
      "[[-1.12661774 17.56001328  0.10391812  3.04117422  0.5       ]\n",
      " [ 4.05728115  3.74086931  5.95845018  5.27812687  0.5       ]]\n"
     ]
    }
   ],
   "source": [
    "output_total = np.squeeze(np.asarray(output_total))\n",
    "print(output_total)"
   ]
  },
  {
   "cell_type": "code",
   "execution_count": 25,
   "metadata": {},
   "outputs": [],
   "source": [
    "output_path = 'tsv/Gauss2_NB_Solution.tsv'\n",
    "with open(output_path, 'wt') as write_tsv:\n",
    "    tsv_writer = csv.writer(write_tsv, delimiter='\\t')\n",
    "    for i in range(len(output_total)):\n",
    "        tsv_writer.writerow(output_total[i])\n",
    "    tsv_writer.writerow([missclassified])\n",
    "write_tsv.close()"
   ]
  },
  {
   "cell_type": "markdown",
   "metadata": {},
   "source": [
    "--------------------------------"
   ]
  },
  {
   "cell_type": "markdown",
   "metadata": {},
   "source": [
    "# Data Visualization"
   ]
  },
  {
   "cell_type": "markdown",
   "metadata": {},
   "source": [
    "## Initial State"
   ]
  },
  {
   "cell_type": "code",
   "execution_count": 26,
   "metadata": {},
   "outputs": [],
   "source": [
    "#xy points for label A\n",
    "xy_label_A = input_ds.where(input_ds['labels']=='A').dropna().drop('labels', axis=1)\n",
    "#xy points for label B\n",
    "xy_label_B = input_ds.where(input_ds['labels']=='B').dropna().drop('labels', axis=1)"
   ]
  },
  {
   "cell_type": "code",
   "execution_count": 27,
   "metadata": {
    "scrolled": true
   },
   "outputs": [
    {
     "data": {
      "image/png": "[encoded data removed]",
      "text/plain": [
       "<Figure size 432x288 with 1 Axes>"
      ]
     },
     "metadata": {},
     "output_type": "display_data"
    }
   ],
   "source": [
    "title = 'Initial State'\n",
    "plot_2D(xy_label_A, xy_label_B, title)"
   ]
  },
  {
   "cell_type": "code",
   "execution_count": 28,
   "metadata": {},
   "outputs": [],
   "source": [
    "nb_ds = input_ds \n",
    "nb_ds['labels']= map_idx2class\n",
    "\n",
    "#xy points for label A\n",
    "xy_label_A_nb = input_ds.where(nb_ds['labels']=='A').dropna().drop('labels', axis=1)\n",
    "#xy points for label B\n",
    "xy_label_B_nb = input_ds.where(nb_ds['labels']=='B').dropna().drop('labels', axis=1)"
   ]
  },
  {
   "cell_type": "code",
   "execution_count": 29,
   "metadata": {},
   "outputs": [
    {
     "data": {
      "image/png": "[encoded data removed]",
      "text/plain": [
       "<Figure size 432x288 with 1 Axes>"
      ]
     },
     "metadata": {},
     "output_type": "display_data"
    }
   ],
   "source": [
    "title = 'Naive Bayes (Error = {}, Accuracy = {})'.format(missclassified, accuracy)\n",
    "plot_2D(xy_label_A_nb, xy_label_B_nb, title)"
   ]
  }
 ],
 "metadata": {
  "kernelspec": {
   "display_name": "Python 3",
   "language": "python",
   "name": "python3"
  },
  "language_info": {
   "codemirror_mode": {
    "name": "ipython",
    "version": 3
   },
   "file_extension": ".py",
   "mimetype": "text/x-python",
   "name": "python",
   "nbconvert_exporter": "python",
   "pygments_lexer": "ipython3",
   "version": "3.6.6"
  }
 },
 "nbformat": 4,
 "nbformat_minor": 2
}
