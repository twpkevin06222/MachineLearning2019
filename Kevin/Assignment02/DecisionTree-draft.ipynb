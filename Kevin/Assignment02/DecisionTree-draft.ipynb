{
 "cells": [
  {
   "cell_type": "markdown",
   "metadata": {},
   "source": [
    "# Imports"
   ]
  },
  {
   "cell_type": "code",
   "execution_count": 1,
   "metadata": {},
   "outputs": [],
   "source": [
    "import numpy as np \n",
    "import matplotlib.pyplot as plt \n",
    "%matplotlib inline\n",
    "import pandas as pd \n",
    "import time\n",
    "from math import log"
   ]
  },
  {
   "cell_type": "markdown",
   "metadata": {},
   "source": [
    "------------------------------"
   ]
  },
  {
   "cell_type": "markdown",
   "metadata": {},
   "source": [
    "# Helper Function"
   ]
  },
  {
   "cell_type": "code",
   "execution_count": 2,
   "metadata": {},
   "outputs": [],
   "source": [
    "def set_array(inps):\n",
    "    '''\n",
    "    @param inps: sliced data frame\n",
    "    Converts dataframe into numpy array for easy work out\n",
    "    '''\n",
    "    inps = np.asarray(inps)\n",
    "    #squeeze to remove indexing column from pandas\n",
    "    return np.squeeze(inps)\n",
    "\n",
    "\n",
    "def entropy(target_col, n_class):\n",
    "    '''\n",
    "    Compute Entropy\n",
    "    @param target_col: the columns of the target value\n",
    "    @param n_class: the number of class as log base\n",
    "    \n",
    "    return: entropy \n",
    "    '''\n",
    "    elements,counts = np.unique(target_col,return_counts = True)\n",
    "    ent = 0\n",
    "    for i in range(len(elements)):\n",
    "        ent += (-counts[i]/np.sum(counts))*log(counts[i]/np.sum(counts), n_class)\n",
    "    return ent    \n",
    "\n",
    "def gain(att_col, target_col, n_class): \n",
    "    total_entropy = entropy(target_col, n_class)\n",
    "    vals,counts= np.unique(att_col,return_counts=True)\n",
    "    w_entropy = 0\n",
    "    for i in range(len(vals)):\n",
    "        split_att = np.where(att_col == vals[i], target_col, 0) #filter attributes \n",
    "        split_att = split_att[split_att!=0] #remove [row, column] that have 0 value\n",
    "        weights = counts[i]/np.sum(counts) #prob w.r.t classes in that attribute\n",
    "        w_entropy += weights*entropy(split_att, n_class)\n",
    "    return total_entropy- w_entropy"
   ]
  },
  {
   "cell_type": "markdown",
   "metadata": {},
   "source": [
    "# Data Processing"
   ]
  },
  {
   "cell_type": "code",
   "execution_count": 3,
   "metadata": {
    "scrolled": true
   },
   "outputs": [
    {
     "name": "stdout",
     "output_type": "stream",
     "text": [
      "Number of columns: 7\n"
     ]
    }
   ],
   "source": [
    "input_path = 'car.csv'\n",
    "input_ds = pd.read_csv(input_path, header = None)\n",
    "n_cols = len(input_ds.columns)\n",
    "print(\"Number of columns:\", n_cols)"
   ]
  },
  {
   "cell_type": "markdown",
   "metadata": {},
   "source": [
    "## Naming columns "
   ]
  },
  {
   "cell_type": "code",
   "execution_count": 4,
   "metadata": {},
   "outputs": [
    {
     "name": "stdout",
     "output_type": "stream",
     "text": [
      "['att0', 'att1', 'att2', 'att3', 'att4', 'att5', 'class']\n"
     ]
    }
   ],
   "source": [
    "#initiate empty list for column name\n",
    "col_name = []\n",
    "\n",
    "for i in range(n_cols):\n",
    "    #last column is the target value\n",
    "    if (i == n_cols-1):\n",
    "        col_name.append('class')\n",
    "    else:\n",
    "        col_name.append('att{}'.format(i))\n",
    "        \n",
    "print(col_name)"
   ]
  },
  {
   "cell_type": "code",
   "execution_count": 5,
   "metadata": {
    "scrolled": false
   },
   "outputs": [
    {
     "name": "stdout",
     "output_type": "stream",
     "text": [
      "    att0   att1 att2 att3   att4  att5  class\n",
      "0  vhigh  vhigh    2    2  small   low  unacc\n",
      "1  vhigh  vhigh    2    2  small   med  unacc\n",
      "2  vhigh  vhigh    2    2  small  high  unacc\n",
      "3  vhigh  vhigh    2    2    med   low  unacc\n",
      "4  vhigh  vhigh    2    2    med   med  unacc\n"
     ]
    }
   ],
   "source": [
    "#assigning column names to data set\n",
    "input_ds.columns = col_name\n",
    "print (input_ds.head())"
   ]
  },
  {
   "cell_type": "code",
   "execution_count": 6,
   "metadata": {},
   "outputs": [],
   "source": [
    "#vectorization of data frame to arrays \n",
    "arr = set_array(input_ds)"
   ]
  },
  {
   "cell_type": "code",
   "execution_count": 7,
   "metadata": {},
   "outputs": [
    {
     "name": "stdout",
     "output_type": "stream",
     "text": [
      "Attributes in att0 is: {'vhigh', 'low', 'high', 'med'}\n",
      "Attributes in att1 is: {'vhigh', 'low', 'high', 'med'}\n",
      "Attributes in att2 is: {'2', '5more', '3', '4'}\n",
      "Attributes in att3 is: {'2', 'more', '4'}\n",
      "Attributes in att4 is: {'med', 'small', 'big'}\n",
      "Attributes in att5 is: {'low', 'med', 'high'}\n",
      "Attributes in class is: {'vgood', 'unacc', 'good', 'acc'}\n",
      "Number of class is:  4\n"
     ]
    }
   ],
   "source": [
    "for i in range(arr.shape[1]-1):\n",
    "    print(\"Attributes in att{} is: {}\".format(i, set(arr[:,i])))\n",
    "\n",
    "class_ = arr[:,-1]\n",
    "n_class = len(set(class_))\n",
    "print(\"Attributes in class is:\", set(class_))\n",
    "print(\"Number of class is: \", n_class)"
   ]
  },
  {
   "cell_type": "markdown",
   "metadata": {},
   "source": [
    "-----------------------------------------"
   ]
  },
  {
   "cell_type": "markdown",
   "metadata": {},
   "source": [
    "# Testing for First Step"
   ]
  },
  {
   "cell_type": "code",
   "execution_count": 8,
   "metadata": {
    "scrolled": false
   },
   "outputs": [
    {
     "data": {
      "text/plain": [
       "0.6028704850060875"
      ]
     },
     "execution_count": 8,
     "metadata": {},
     "output_type": "execute_result"
    }
   ],
   "source": [
    "entropy(arr[:,-1], n_class)"
   ]
  },
  {
   "cell_type": "code",
   "execution_count": 9,
   "metadata": {
    "scrolled": true
   },
   "outputs": [
    {
     "name": "stdout",
     "output_type": "stream",
     "text": [
      "Index 5 has the highest gain: 0.13109217827713188\n"
     ]
    }
   ],
   "source": [
    "max_gain_indx = 0\n",
    "max_gain = 0\n",
    "for i in range(n_cols-1):\n",
    "    info_gain = gain(arr[:,i], arr[:,-1], n_class)\n",
    "    if info_gain> max_gain:\n",
    "        max_gain = info_gain\n",
    "        max_gain_indx = i\n",
    "print(\"Index {} has the highest gain: {}\".format(max_gain_indx, info_gain))"
   ]
  },
  {
   "cell_type": "code",
   "execution_count": 10,
   "metadata": {
    "scrolled": true
   },
   "outputs": [
    {
     "name": "stdout",
     "output_type": "stream",
     "text": [
      "['vhigh' 'vhigh' '2' '2' 'small' 'unacc']\n"
     ]
    }
   ],
   "source": [
    "#delete best feature column from the dataset \n",
    "sub_arr = np.delete(arr,max_gain_indx,1)\n",
    "#sanity check\n",
    "print(sub_arr[0])"
   ]
  },
  {
   "cell_type": "code",
   "execution_count": 11,
   "metadata": {},
   "outputs": [
    {
     "name": "stdout",
     "output_type": "stream",
     "text": [
      "['high' 'low' 'med']\n"
     ]
    }
   ],
   "source": [
    "features = np.unique(arr[:,max_gain_indx])\n",
    "print(features)"
   ]
  },
  {
   "cell_type": "code",
   "execution_count": 12,
   "metadata": {
    "scrolled": true
   },
   "outputs": [
    {
     "name": "stdout",
     "output_type": "stream",
     "text": [
      "Entropy: 0.8077559247898061, The best attribute is: high\n",
      "Entropy: 0, The best attribute is: low\n",
      "Entropy: 0.607578995397061, The best attribute is: med\n"
     ]
    }
   ],
   "source": [
    "for feature in np.unique(arr[:,max_gain_indx]):\n",
    "    sub_data = np.where(arr[:,max_gain_indx]==feature, arr[:,-1], 0)\n",
    "    sub_data = sub_data[sub_data!=0]\n",
    "    if(len(set(sub_data))<=1):\n",
    "        #if theres only one label, entropy should be 0\n",
    "        ent = 0\n",
    "        print(\"Entropy: {}, The best attribute is: {}\".format(ent,feature))\n",
    "        #node\n",
    "    else:\n",
    "        ent = entropy(sub_data, n_class)\n",
    "        print(\"Entropy: {}, The best attribute is: {}\".format(ent,feature))\n",
    "        #grow tree"
   ]
  },
  {
   "cell_type": "code",
   "execution_count": 28,
   "metadata": {},
   "outputs": [
    {
     "name": "stdout",
     "output_type": "stream",
     "text": [
      "1\n",
      "2\n",
      "3\n",
      "4\n",
      "5\n",
      "Index 0 has the highest gain: 0.13109217827713188\n"
     ]
    }
   ],
   "source": [
    "max_gain = 0\n",
    "for i in range(n_cols-1):\n",
    "    if i == max_gain_indx:\n",
    "        pass\n",
    "    else:\n",
    "        print(i)\n",
    "        info_gain = gain(arr[:,i], arr[:,-1], n_class)\n",
    "        if info_gain> max_gain:\n",
    "            max_gain = info_gain\n",
    "            max_gain_indx = i\n",
    "print(\"Index {} has the highest gain: {}\".format(max_gain_indx, info_gain))"
   ]
  },
  {
   "cell_type": "code",
   "execution_count": 20,
   "metadata": {
    "scrolled": true
   },
   "outputs": [
    {
     "name": "stdout",
     "output_type": "stream",
     "text": [
      "0\n",
      "1\n",
      "2\n",
      "3\n",
      "4\n",
      "5\n",
      "Index 5 has the highest gain: 0.13109217827713188\n"
     ]
    }
   ],
   "source": [
    "max_gain = 0\n",
    "for i in range(n_cols-1):\n",
    "    if i == max_gain_indx:\n",
    "        pass\n",
    "    else:\n",
    "        print(i)\n",
    "        info_gain = gain(arr[:,i], arr[:,-1], n_class)\n",
    "        if info_gain> max_gain:\n",
    "            max_gain = info_gain\n",
    "            max_gain_indx = i\n",
    "print(\"Index {} has the highest gain: {}\".format(max_gain_indx, info_gain))"
   ]
  },
  {
   "cell_type": "code",
   "execution_count": 14,
   "metadata": {
    "scrolled": true
   },
   "outputs": [
    {
     "data": {
      "text/plain": [
       "(array(['high', 'low', 'med'], dtype=object), array([576, 576, 576]))"
      ]
     },
     "execution_count": 14,
     "metadata": {},
     "output_type": "execute_result"
    }
   ],
   "source": [
    "np.unique(arr[:,5],return_counts=True)"
   ]
  },
  {
   "cell_type": "code",
   "execution_count": 15,
   "metadata": {},
   "outputs": [
    {
     "name": "stdout",
     "output_type": "stream",
     "text": [
      "high\n"
     ]
    }
   ],
   "source": [
    "parent_node_class = np.unique(arr[:,5])[np.argmax(np.unique(arr[:,5],return_counts=True)[1])]\n",
    "print(parent_node_class)"
   ]
  },
  {
   "cell_type": "code",
   "execution_count": 16,
   "metadata": {},
   "outputs": [
    {
     "data": {
      "text/plain": [
       "Index(['att0', 'att1', 'att2', 'att3', 'att4', 'att5'], dtype='object')"
      ]
     },
     "execution_count": 16,
     "metadata": {},
     "output_type": "execute_result"
    }
   ],
   "source": [
    "input_ds.columns[:-1]"
   ]
  },
  {
   "cell_type": "markdown",
   "metadata": {},
   "source": [
    "------------------------------------------------------------"
   ]
  },
  {
   "cell_type": "markdown",
   "metadata": {},
   "source": [
    "# Recursive Tree"
   ]
  },
  {
   "cell_type": "markdown",
   "metadata": {},
   "source": [
    "-----------------------------------------------"
   ]
  }
 ],
 "metadata": {
  "kernelspec": {
   "display_name": "Python 3",
   "language": "python",
   "name": "python3"
  },
  "language_info": {
   "codemirror_mode": {
    "name": "ipython",
    "version": 3
   },
   "file_extension": ".py",
   "mimetype": "text/x-python",
   "name": "python",
   "nbconvert_exporter": "python",
   "pygments_lexer": "ipython3",
   "version": "3.6.6"
  }
 },
 "nbformat": 4,
 "nbformat_minor": 2
}
